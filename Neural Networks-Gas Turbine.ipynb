{
 "cells": [
  {
   "cell_type": "code",
   "execution_count": null,
   "id": "510ba1a0",
   "metadata": {},
   "outputs": [],
   "source": [
    "#Neural Networks-Gas Turbine"
   ]
  },
  {
   "cell_type": "code",
   "execution_count": 3,
   "id": "d413d461",
   "metadata": {},
   "outputs": [],
   "source": [
    "#load the libraries\n",
    "import pandas as pd\n",
    "import numpy as np\n",
    "from sklearn.model_selection import train_test_split, cross_val_score\n",
    "import seaborn as sns\n",
    "from matplotlib import pyplot as plt\n",
    "%matplotlib inline\n",
    "import tensorflow as tf\n",
    "tf.debugging.set_log_device_placement(False) \n",
    "import warnings\n",
    "warnings.filterwarnings('ignore')"
   ]
  },
  {
   "cell_type": "code",
   "execution_count": 2,
   "id": "f6516cba",
   "metadata": {},
   "outputs": [
    {
     "name": "stdout",
     "output_type": "stream",
     "text": [
      "Collecting tensorflow\n",
      "  Downloading tensorflow-2.9.1-cp39-cp39-win_amd64.whl (444.0 MB)\n",
      "Collecting termcolor>=1.1.0\n",
      "  Downloading termcolor-1.1.0.tar.gz (3.9 kB)\n",
      "Collecting google-pasta>=0.1.1\n",
      "  Downloading google_pasta-0.2.0-py3-none-any.whl (57 kB)\n",
      "Collecting keras-preprocessing>=1.1.1\n",
      "  Downloading Keras_Preprocessing-1.1.2-py2.py3-none-any.whl (42 kB)\n",
      "Collecting flatbuffers<2,>=1.12\n",
      "  Downloading flatbuffers-1.12-py2.py3-none-any.whl (15 kB)\n",
      "Collecting opt-einsum>=2.3.2\n",
      "  Downloading opt_einsum-3.3.0-py3-none-any.whl (65 kB)\n",
      "Requirement already satisfied: numpy>=1.20 in c:\\users\\admin\\anaconda3\\lib\\site-packages (from tensorflow) (1.20.3)\n",
      "Collecting keras<2.10.0,>=2.9.0rc0\n",
      "  Downloading keras-2.9.0-py2.py3-none-any.whl (1.6 MB)\n",
      "Collecting libclang>=13.0.0\n",
      "  Downloading libclang-14.0.1-py2.py3-none-win_amd64.whl (14.2 MB)\n",
      "Requirement already satisfied: typing-extensions>=3.6.6 in c:\\users\\admin\\anaconda3\\lib\\site-packages (from tensorflow) (3.10.0.2)\n",
      "Requirement already satisfied: h5py>=2.9.0 in c:\\users\\admin\\anaconda3\\lib\\site-packages (from tensorflow) (3.2.1)\n",
      "Requirement already satisfied: packaging in c:\\users\\admin\\anaconda3\\lib\\site-packages (from tensorflow) (21.0)\n",
      "Requirement already satisfied: six>=1.12.0 in c:\\users\\admin\\anaconda3\\lib\\site-packages (from tensorflow) (1.16.0)\n",
      "Collecting tensorflow-estimator<2.10.0,>=2.9.0rc0\n",
      "  Downloading tensorflow_estimator-2.9.0-py2.py3-none-any.whl (438 kB)\n",
      "Collecting gast<=0.4.0,>=0.2.1\n",
      "  Downloading gast-0.4.0-py3-none-any.whl (9.8 kB)\n",
      "Collecting tensorflow-io-gcs-filesystem>=0.23.1\n",
      "  Downloading tensorflow_io_gcs_filesystem-0.26.0-cp39-cp39-win_amd64.whl (1.5 MB)\n",
      "Collecting grpcio<2.0,>=1.24.3\n",
      "  Downloading grpcio-1.48.0-cp39-cp39-win_amd64.whl (3.6 MB)\n",
      "Requirement already satisfied: wrapt>=1.11.0 in c:\\users\\admin\\anaconda3\\lib\\site-packages (from tensorflow) (1.12.1)\n",
      "Collecting astunparse>=1.6.0\n",
      "  Downloading astunparse-1.6.3-py2.py3-none-any.whl (12 kB)\n",
      "Requirement already satisfied: setuptools in c:\\users\\admin\\anaconda3\\lib\\site-packages (from tensorflow) (58.0.4)\n",
      "Collecting tensorboard<2.10,>=2.9\n",
      "  Downloading tensorboard-2.9.1-py3-none-any.whl (5.8 MB)\n",
      "Collecting protobuf<3.20,>=3.9.2\n",
      "  Downloading protobuf-3.19.4-cp39-cp39-win_amd64.whl (895 kB)\n",
      "Collecting absl-py>=1.0.0\n",
      "  Downloading absl_py-1.2.0-py3-none-any.whl (123 kB)\n",
      "Requirement already satisfied: wheel<1.0,>=0.23.0 in c:\\users\\admin\\anaconda3\\lib\\site-packages (from astunparse>=1.6.0->tensorflow) (0.37.0)\n",
      "Collecting google-auth<3,>=1.6.3\n",
      "  Downloading google_auth-2.9.1-py2.py3-none-any.whl (167 kB)\n",
      "Collecting google-auth-oauthlib<0.5,>=0.4.1\n",
      "  Downloading google_auth_oauthlib-0.4.6-py2.py3-none-any.whl (18 kB)\n",
      "Requirement already satisfied: requests<3,>=2.21.0 in c:\\users\\admin\\anaconda3\\lib\\site-packages (from tensorboard<2.10,>=2.9->tensorflow) (2.26.0)\n",
      "Requirement already satisfied: werkzeug>=1.0.1 in c:\\users\\admin\\anaconda3\\lib\\site-packages (from tensorboard<2.10,>=2.9->tensorflow) (2.0.2)\n",
      "Collecting tensorboard-data-server<0.7.0,>=0.6.0\n",
      "  Downloading tensorboard_data_server-0.6.1-py3-none-any.whl (2.4 kB)\n",
      "Collecting markdown>=2.6.8\n",
      "  Downloading Markdown-3.4.1-py3-none-any.whl (93 kB)\n",
      "Collecting tensorboard-plugin-wit>=1.6.0\n",
      "  Downloading tensorboard_plugin_wit-1.8.1-py3-none-any.whl (781 kB)\n",
      "Collecting rsa<5,>=3.1.4\n",
      "  Downloading rsa-4.9-py3-none-any.whl (34 kB)\n",
      "Collecting pyasn1-modules>=0.2.1\n",
      "  Downloading pyasn1_modules-0.2.8-py2.py3-none-any.whl (155 kB)\n",
      "Requirement already satisfied: cachetools<6.0,>=2.0.0 in c:\\users\\admin\\anaconda3\\lib\\site-packages (from google-auth<3,>=1.6.3->tensorboard<2.10,>=2.9->tensorflow) (5.2.0)\n",
      "Collecting requests-oauthlib>=0.7.0\n",
      "  Downloading requests_oauthlib-1.3.1-py2.py3-none-any.whl (23 kB)\n",
      "Requirement already satisfied: importlib-metadata>=4.4 in c:\\users\\admin\\anaconda3\\lib\\site-packages (from markdown>=2.6.8->tensorboard<2.10,>=2.9->tensorflow) (4.8.1)\n",
      "Requirement already satisfied: zipp>=0.5 in c:\\users\\admin\\anaconda3\\lib\\site-packages (from importlib-metadata>=4.4->markdown>=2.6.8->tensorboard<2.10,>=2.9->tensorflow) (3.6.0)\n",
      "Collecting pyasn1<0.5.0,>=0.4.6\n",
      "  Downloading pyasn1-0.4.8-py2.py3-none-any.whl (77 kB)\n",
      "Requirement already satisfied: idna<4,>=2.5 in c:\\users\\admin\\anaconda3\\lib\\site-packages (from requests<3,>=2.21.0->tensorboard<2.10,>=2.9->tensorflow) (3.2)\n",
      "Requirement already satisfied: charset-normalizer~=2.0.0 in c:\\users\\admin\\anaconda3\\lib\\site-packages (from requests<3,>=2.21.0->tensorboard<2.10,>=2.9->tensorflow) (2.0.4)\n",
      "Requirement already satisfied: urllib3<1.27,>=1.21.1 in c:\\users\\admin\\anaconda3\\lib\\site-packages (from requests<3,>=2.21.0->tensorboard<2.10,>=2.9->tensorflow) (1.26.7)\n",
      "Requirement already satisfied: certifi>=2017.4.17 in c:\\users\\admin\\anaconda3\\lib\\site-packages (from requests<3,>=2.21.0->tensorboard<2.10,>=2.9->tensorflow) (2022.6.15)\n",
      "Collecting oauthlib>=3.0.0\n",
      "  Downloading oauthlib-3.2.0-py3-none-any.whl (151 kB)\n",
      "Requirement already satisfied: pyparsing>=2.0.2 in c:\\users\\admin\\anaconda3\\lib\\site-packages (from packaging->tensorflow) (3.0.4)\n",
      "Building wheels for collected packages: termcolor\n",
      "  Building wheel for termcolor (setup.py): started\n",
      "  Building wheel for termcolor (setup.py): finished with status 'done'\n",
      "  Created wheel for termcolor: filename=termcolor-1.1.0-py3-none-any.whl size=4847 sha256=bebd21394010db3d9d6104692217e2813785e0b0bcf5e50142c809b48ddbf7ec\n",
      "  Stored in directory: c:\\users\\admin\\appdata\\local\\pip\\cache\\wheels\\b6\\0d\\90\\0d1bbd99855f99cb2f6c2e5ff96f8023fad8ec367695f7d72d\n",
      "Successfully built termcolor\n",
      "Installing collected packages: pyasn1, rsa, pyasn1-modules, oauthlib, requests-oauthlib, google-auth, tensorboard-plugin-wit, tensorboard-data-server, protobuf, markdown, grpcio, google-auth-oauthlib, absl-py, termcolor, tensorflow-io-gcs-filesystem, tensorflow-estimator, tensorboard, opt-einsum, libclang, keras-preprocessing, keras, google-pasta, gast, flatbuffers, astunparse, tensorflow\n",
      "  Attempting uninstall: protobuf\n",
      "    Found existing installation: protobuf 3.20.1\n",
      "    Uninstalling protobuf-3.20.1:\n",
      "      Successfully uninstalled protobuf-3.20.1\n",
      "Successfully installed absl-py-1.2.0 astunparse-1.6.3 flatbuffers-1.12 gast-0.4.0 google-auth-2.9.1 google-auth-oauthlib-0.4.6 google-pasta-0.2.0 grpcio-1.48.0 keras-2.9.0 keras-preprocessing-1.1.2 libclang-14.0.1 markdown-3.4.1 oauthlib-3.2.0 opt-einsum-3.3.0 protobuf-3.19.4 pyasn1-0.4.8 pyasn1-modules-0.2.8 requests-oauthlib-1.3.1 rsa-4.9 tensorboard-2.9.1 tensorboard-data-server-0.6.1 tensorboard-plugin-wit-1.8.1 tensorflow-2.9.1 tensorflow-estimator-2.9.0 tensorflow-io-gcs-filesystem-0.26.0 termcolor-1.1.0\n"
     ]
    }
   ],
   "source": [
    "!pip install tensorflow"
   ]
  },
  {
   "cell_type": "code",
   "execution_count": 4,
   "id": "8845b788",
   "metadata": {},
   "outputs": [],
   "source": [
    "# Generating reproducible results from same code\n",
    "tf.random.set_seed(14) "
   ]
  },
  {
   "cell_type": "code",
   "execution_count": 5,
   "id": "a0e4b172",
   "metadata": {},
   "outputs": [
    {
     "data": {
      "text/html": [
       "<div>\n",
       "<style scoped>\n",
       "    .dataframe tbody tr th:only-of-type {\n",
       "        vertical-align: middle;\n",
       "    }\n",
       "\n",
       "    .dataframe tbody tr th {\n",
       "        vertical-align: top;\n",
       "    }\n",
       "\n",
       "    .dataframe thead th {\n",
       "        text-align: right;\n",
       "    }\n",
       "</style>\n",
       "<table border=\"1\" class=\"dataframe\">\n",
       "  <thead>\n",
       "    <tr style=\"text-align: right;\">\n",
       "      <th></th>\n",
       "      <th>AT</th>\n",
       "      <th>AP</th>\n",
       "      <th>AH</th>\n",
       "      <th>AFDP</th>\n",
       "      <th>GTEP</th>\n",
       "      <th>TIT</th>\n",
       "      <th>TAT</th>\n",
       "      <th>TEY</th>\n",
       "      <th>CDP</th>\n",
       "      <th>CO</th>\n",
       "      <th>NOX</th>\n",
       "    </tr>\n",
       "  </thead>\n",
       "  <tbody>\n",
       "    <tr>\n",
       "      <th>0</th>\n",
       "      <td>6.8594</td>\n",
       "      <td>1007.9</td>\n",
       "      <td>96.799</td>\n",
       "      <td>3.5000</td>\n",
       "      <td>19.663</td>\n",
       "      <td>1059.2</td>\n",
       "      <td>550.00</td>\n",
       "      <td>114.70</td>\n",
       "      <td>10.605</td>\n",
       "      <td>3.1547</td>\n",
       "      <td>82.722</td>\n",
       "    </tr>\n",
       "    <tr>\n",
       "      <th>1</th>\n",
       "      <td>6.7850</td>\n",
       "      <td>1008.4</td>\n",
       "      <td>97.118</td>\n",
       "      <td>3.4998</td>\n",
       "      <td>19.728</td>\n",
       "      <td>1059.3</td>\n",
       "      <td>550.00</td>\n",
       "      <td>114.72</td>\n",
       "      <td>10.598</td>\n",
       "      <td>3.2363</td>\n",
       "      <td>82.776</td>\n",
       "    </tr>\n",
       "    <tr>\n",
       "      <th>2</th>\n",
       "      <td>6.8977</td>\n",
       "      <td>1008.8</td>\n",
       "      <td>95.939</td>\n",
       "      <td>3.4824</td>\n",
       "      <td>19.779</td>\n",
       "      <td>1059.4</td>\n",
       "      <td>549.87</td>\n",
       "      <td>114.71</td>\n",
       "      <td>10.601</td>\n",
       "      <td>3.2012</td>\n",
       "      <td>82.468</td>\n",
       "    </tr>\n",
       "    <tr>\n",
       "      <th>3</th>\n",
       "      <td>7.0569</td>\n",
       "      <td>1009.2</td>\n",
       "      <td>95.249</td>\n",
       "      <td>3.4805</td>\n",
       "      <td>19.792</td>\n",
       "      <td>1059.6</td>\n",
       "      <td>549.99</td>\n",
       "      <td>114.72</td>\n",
       "      <td>10.606</td>\n",
       "      <td>3.1923</td>\n",
       "      <td>82.670</td>\n",
       "    </tr>\n",
       "    <tr>\n",
       "      <th>4</th>\n",
       "      <td>7.3978</td>\n",
       "      <td>1009.7</td>\n",
       "      <td>95.150</td>\n",
       "      <td>3.4976</td>\n",
       "      <td>19.765</td>\n",
       "      <td>1059.7</td>\n",
       "      <td>549.98</td>\n",
       "      <td>114.72</td>\n",
       "      <td>10.612</td>\n",
       "      <td>3.2484</td>\n",
       "      <td>82.311</td>\n",
       "    </tr>\n",
       "  </tbody>\n",
       "</table>\n",
       "</div>"
      ],
      "text/plain": [
       "       AT      AP      AH    AFDP    GTEP     TIT     TAT     TEY     CDP  \\\n",
       "0  6.8594  1007.9  96.799  3.5000  19.663  1059.2  550.00  114.70  10.605   \n",
       "1  6.7850  1008.4  97.118  3.4998  19.728  1059.3  550.00  114.72  10.598   \n",
       "2  6.8977  1008.8  95.939  3.4824  19.779  1059.4  549.87  114.71  10.601   \n",
       "3  7.0569  1009.2  95.249  3.4805  19.792  1059.6  549.99  114.72  10.606   \n",
       "4  7.3978  1009.7  95.150  3.4976  19.765  1059.7  549.98  114.72  10.612   \n",
       "\n",
       "       CO     NOX  \n",
       "0  3.1547  82.722  \n",
       "1  3.2363  82.776  \n",
       "2  3.2012  82.468  \n",
       "3  3.1923  82.670  \n",
       "4  3.2484  82.311  "
      ]
     },
     "execution_count": 5,
     "metadata": {},
     "output_type": "execute_result"
    }
   ],
   "source": [
    "raw = pd.read_csv(\"gas_turbines.csv\")\n",
    "raw.head() \n",
    "#TEY is the variable we should predict."
   ]
  },
  {
   "cell_type": "code",
   "execution_count": 6,
   "id": "e780d712",
   "metadata": {},
   "outputs": [
    {
     "data": {
      "text/html": [
       "<div>\n",
       "<style scoped>\n",
       "    .dataframe tbody tr th:only-of-type {\n",
       "        vertical-align: middle;\n",
       "    }\n",
       "\n",
       "    .dataframe tbody tr th {\n",
       "        vertical-align: top;\n",
       "    }\n",
       "\n",
       "    .dataframe thead th {\n",
       "        text-align: right;\n",
       "    }\n",
       "</style>\n",
       "<table border=\"1\" class=\"dataframe\">\n",
       "  <thead>\n",
       "    <tr style=\"text-align: right;\">\n",
       "      <th></th>\n",
       "      <th>AT</th>\n",
       "      <th>AP</th>\n",
       "      <th>AH</th>\n",
       "      <th>TEY</th>\n",
       "    </tr>\n",
       "  </thead>\n",
       "  <tbody>\n",
       "    <tr>\n",
       "      <th>0</th>\n",
       "      <td>6.8594</td>\n",
       "      <td>1007.9</td>\n",
       "      <td>96.799</td>\n",
       "      <td>114.70</td>\n",
       "    </tr>\n",
       "    <tr>\n",
       "      <th>1</th>\n",
       "      <td>6.7850</td>\n",
       "      <td>1008.4</td>\n",
       "      <td>97.118</td>\n",
       "      <td>114.72</td>\n",
       "    </tr>\n",
       "    <tr>\n",
       "      <th>2</th>\n",
       "      <td>6.8977</td>\n",
       "      <td>1008.8</td>\n",
       "      <td>95.939</td>\n",
       "      <td>114.71</td>\n",
       "    </tr>\n",
       "    <tr>\n",
       "      <th>3</th>\n",
       "      <td>7.0569</td>\n",
       "      <td>1009.2</td>\n",
       "      <td>95.249</td>\n",
       "      <td>114.72</td>\n",
       "    </tr>\n",
       "    <tr>\n",
       "      <th>4</th>\n",
       "      <td>7.3978</td>\n",
       "      <td>1009.7</td>\n",
       "      <td>95.150</td>\n",
       "      <td>114.72</td>\n",
       "    </tr>\n",
       "  </tbody>\n",
       "</table>\n",
       "</div>"
      ],
      "text/plain": [
       "       AT      AP      AH     TEY\n",
       "0  6.8594  1007.9  96.799  114.70\n",
       "1  6.7850  1008.4  97.118  114.72\n",
       "2  6.8977  1008.8  95.939  114.71\n",
       "3  7.0569  1009.2  95.249  114.72\n",
       "4  7.3978  1009.7  95.150  114.72"
      ]
     },
     "execution_count": 6,
     "metadata": {},
     "output_type": "execute_result"
    }
   ],
   "source": [
    "df = raw.copy() \n",
    "df = df.drop(['AFDP','GTEP','TIT','TAT','CDP','CO','NOX'],axis=1)\n",
    "df.head()"
   ]
  },
  {
   "cell_type": "code",
   "execution_count": 7,
   "id": "e82039aa",
   "metadata": {},
   "outputs": [
    {
     "name": "stdout",
     "output_type": "stream",
     "text": [
      "<class 'pandas.core.frame.DataFrame'>\n",
      "RangeIndex: 15039 entries, 0 to 15038\n",
      "Data columns (total 4 columns):\n",
      " #   Column  Non-Null Count  Dtype  \n",
      "---  ------  --------------  -----  \n",
      " 0   AT      15039 non-null  float64\n",
      " 1   AP      15039 non-null  float64\n",
      " 2   AH      15039 non-null  float64\n",
      " 3   TEY     15039 non-null  float64\n",
      "dtypes: float64(4)\n",
      "memory usage: 470.1 KB\n"
     ]
    }
   ],
   "source": [
    "df.info()"
   ]
  },
  {
   "cell_type": "code",
   "execution_count": 8,
   "id": "b40d2f5d",
   "metadata": {},
   "outputs": [
    {
     "data": {
      "text/html": [
       "<div>\n",
       "<style scoped>\n",
       "    .dataframe tbody tr th:only-of-type {\n",
       "        vertical-align: middle;\n",
       "    }\n",
       "\n",
       "    .dataframe tbody tr th {\n",
       "        vertical-align: top;\n",
       "    }\n",
       "\n",
       "    .dataframe thead th {\n",
       "        text-align: right;\n",
       "    }\n",
       "</style>\n",
       "<table border=\"1\" class=\"dataframe\">\n",
       "  <thead>\n",
       "    <tr style=\"text-align: right;\">\n",
       "      <th></th>\n",
       "      <th>AT</th>\n",
       "      <th>AP</th>\n",
       "      <th>AH</th>\n",
       "      <th>TEY</th>\n",
       "    </tr>\n",
       "  </thead>\n",
       "  <tbody>\n",
       "    <tr>\n",
       "      <th>count</th>\n",
       "      <td>15039.000000</td>\n",
       "      <td>15039.00000</td>\n",
       "      <td>15039.000000</td>\n",
       "      <td>15039.000000</td>\n",
       "    </tr>\n",
       "    <tr>\n",
       "      <th>mean</th>\n",
       "      <td>17.764381</td>\n",
       "      <td>1013.19924</td>\n",
       "      <td>79.124174</td>\n",
       "      <td>134.188464</td>\n",
       "    </tr>\n",
       "    <tr>\n",
       "      <th>std</th>\n",
       "      <td>7.574323</td>\n",
       "      <td>6.41076</td>\n",
       "      <td>13.793439</td>\n",
       "      <td>15.829717</td>\n",
       "    </tr>\n",
       "    <tr>\n",
       "      <th>min</th>\n",
       "      <td>0.522300</td>\n",
       "      <td>985.85000</td>\n",
       "      <td>30.344000</td>\n",
       "      <td>100.170000</td>\n",
       "    </tr>\n",
       "    <tr>\n",
       "      <th>25%</th>\n",
       "      <td>11.408000</td>\n",
       "      <td>1008.90000</td>\n",
       "      <td>69.750000</td>\n",
       "      <td>127.985000</td>\n",
       "    </tr>\n",
       "    <tr>\n",
       "      <th>50%</th>\n",
       "      <td>18.186000</td>\n",
       "      <td>1012.80000</td>\n",
       "      <td>82.266000</td>\n",
       "      <td>133.780000</td>\n",
       "    </tr>\n",
       "    <tr>\n",
       "      <th>75%</th>\n",
       "      <td>23.862500</td>\n",
       "      <td>1016.90000</td>\n",
       "      <td>90.043500</td>\n",
       "      <td>140.895000</td>\n",
       "    </tr>\n",
       "    <tr>\n",
       "      <th>max</th>\n",
       "      <td>34.929000</td>\n",
       "      <td>1034.20000</td>\n",
       "      <td>100.200000</td>\n",
       "      <td>174.610000</td>\n",
       "    </tr>\n",
       "  </tbody>\n",
       "</table>\n",
       "</div>"
      ],
      "text/plain": [
       "                 AT           AP            AH           TEY\n",
       "count  15039.000000  15039.00000  15039.000000  15039.000000\n",
       "mean      17.764381   1013.19924     79.124174    134.188464\n",
       "std        7.574323      6.41076     13.793439     15.829717\n",
       "min        0.522300    985.85000     30.344000    100.170000\n",
       "25%       11.408000   1008.90000     69.750000    127.985000\n",
       "50%       18.186000   1012.80000     82.266000    133.780000\n",
       "75%       23.862500   1016.90000     90.043500    140.895000\n",
       "max       34.929000   1034.20000    100.200000    174.610000"
      ]
     },
     "execution_count": 8,
     "metadata": {},
     "output_type": "execute_result"
    }
   ],
   "source": [
    "df.describe()"
   ]
  },
  {
   "cell_type": "markdown",
   "id": "28138005",
   "metadata": {},
   "source": [
    "# Feature Analysis"
   ]
  },
  {
   "cell_type": "markdown",
   "id": "23d2b995",
   "metadata": {},
   "source": [
    " All features in the dataset can be used in model building. This is a Regression Problem."
   ]
  },
  {
   "cell_type": "markdown",
   "id": "7c408d68",
   "metadata": {},
   "source": [
    "# Train | Split dataset"
   ]
  },
  {
   "cell_type": "code",
   "execution_count": 9,
   "id": "ad8d7435",
   "metadata": {},
   "outputs": [],
   "source": [
    "X =df.iloc[:,:-1]\n",
    "Y = df.iloc[:,-1]\n",
    "\n",
    "\n",
    "X_train, X_test, y_train, y_test = train_test_split(X,Y, test_size = 0.3)"
   ]
  },
  {
   "cell_type": "markdown",
   "id": "33ef84ce",
   "metadata": {},
   "source": [
    "A common mistake when configuring a neural network is to first normalize the data before splitting the data."
   ]
  },
  {
   "cell_type": "code",
   "execution_count": 10,
   "id": "33b605ab",
   "metadata": {},
   "outputs": [],
   "source": [
    "y_train=np.reshape(y_train.to_numpy(), (-1,1)) \n",
    "y_test=np.reshape(y_test.to_numpy(), (-1,1)) "
   ]
  },
  {
   "cell_type": "code",
   "execution_count": 11,
   "id": "4bed40ed",
   "metadata": {},
   "outputs": [
    {
     "name": "stdout",
     "output_type": "stream",
     "text": [
      "MinMaxScaler()\n",
      "MinMaxScaler()\n",
      "MinMaxScaler()\n",
      "MinMaxScaler()\n"
     ]
    }
   ],
   "source": [
    "from sklearn.preprocessing import MinMaxScaler\n",
    "\n",
    "scaler_x = MinMaxScaler()\n",
    "scaler_y = MinMaxScaler()\n",
    "\n",
    "print(scaler_x.fit(X_train))\n",
    "xtrain_scale=scaler_x.transform(X_train)\n",
    "\n",
    "print(scaler_x.fit(X_test))\n",
    "xtest_scale=scaler_x.transform(X_test)\n",
    "\n",
    "print(scaler_y.fit(y_train))\n",
    "ytrain_scale=scaler_y.transform(y_train)\n",
    "\n",
    "print(scaler_y.fit(y_test))\n",
    "ytest_scale=scaler_y.transform(y_test)"
   ]
  },
  {
   "cell_type": "code",
   "execution_count": 12,
   "id": "7f0066c5",
   "metadata": {},
   "outputs": [
    {
     "data": {
      "text/plain": [
       "10527"
      ]
     },
     "execution_count": 12,
     "metadata": {},
     "output_type": "execute_result"
    }
   ],
   "source": [
    "len(xtrain_scale)"
   ]
  },
  {
   "cell_type": "markdown",
   "id": "19f5f10d",
   "metadata": {},
   "source": [
    "# Neural Network Modelling"
   ]
  },
  {
   "cell_type": "markdown",
   "id": "fca00555",
   "metadata": {},
   "source": [
    "Building the Model"
   ]
  },
  {
   "cell_type": "code",
   "execution_count": 13,
   "id": "bb482cc6",
   "metadata": {},
   "outputs": [],
   "source": [
    "# Create your first MLP in Keras\n",
    "import keras \n",
    "from keras.models import Sequential\n",
    "from keras.layers import Dense"
   ]
  },
  {
   "cell_type": "code",
   "execution_count": 14,
   "id": "f87208a5",
   "metadata": {},
   "outputs": [
    {
     "name": "stdout",
     "output_type": "stream",
     "text": [
      "Epoch 1/100\n",
      "48/48 [==============================] - 2s 17ms/step - loss: 0.0730 - mse: 0.0730 - mae: 0.2072 - val_loss: 0.0470 - val_mse: 0.0470 - val_mae: 0.1578\n",
      "Epoch 2/100\n",
      "48/48 [==============================] - 0s 10ms/step - loss: 0.0457 - mse: 0.0457 - mae: 0.1538 - val_loss: 0.0458 - val_mse: 0.0458 - val_mae: 0.1597\n",
      "Epoch 3/100\n",
      "48/48 [==============================] - 0s 10ms/step - loss: 0.0442 - mse: 0.0442 - mae: 0.1563 - val_loss: 0.0438 - val_mse: 0.0438 - val_mae: 0.1564\n",
      "Epoch 4/100\n",
      "48/48 [==============================] - 0s 10ms/step - loss: 0.0436 - mse: 0.0436 - mae: 0.1596 - val_loss: 0.0426 - val_mse: 0.0426 - val_mae: 0.1585\n",
      "Epoch 5/100\n",
      "48/48 [==============================] - 1s 13ms/step - loss: 0.0418 - mse: 0.0418 - mae: 0.1572 - val_loss: 0.0419 - val_mse: 0.0419 - val_mae: 0.1593\n",
      "Epoch 6/100\n",
      "48/48 [==============================] - 0s 10ms/step - loss: 0.0413 - mse: 0.0413 - mae: 0.1583 - val_loss: 0.0423 - val_mse: 0.0423 - val_mae: 0.1587\n",
      "Epoch 7/100\n",
      "48/48 [==============================] - 0s 10ms/step - loss: 0.0411 - mse: 0.0411 - mae: 0.1579 - val_loss: 0.0412 - val_mse: 0.0412 - val_mae: 0.1580\n",
      "Epoch 8/100\n",
      "48/48 [==============================] - 0s 10ms/step - loss: 0.0406 - mse: 0.0406 - mae: 0.1580 - val_loss: 0.0417 - val_mse: 0.0417 - val_mae: 0.1617\n",
      "Epoch 9/100\n",
      "48/48 [==============================] - 0s 10ms/step - loss: 0.0403 - mse: 0.0403 - mae: 0.1578 - val_loss: 0.0403 - val_mse: 0.0403 - val_mae: 0.1579\n",
      "Epoch 10/100\n",
      "48/48 [==============================] - 1s 11ms/step - loss: 0.0400 - mse: 0.0400 - mae: 0.1581 - val_loss: 0.0402 - val_mse: 0.0402 - val_mae: 0.1573\n",
      "Epoch 11/100\n",
      "48/48 [==============================] - 1s 11ms/step - loss: 0.0401 - mse: 0.0401 - mae: 0.1578 - val_loss: 0.0405 - val_mse: 0.0405 - val_mae: 0.1592\n",
      "Epoch 12/100\n",
      "48/48 [==============================] - 0s 9ms/step - loss: 0.0398 - mse: 0.0398 - mae: 0.1579 - val_loss: 0.0399 - val_mse: 0.0399 - val_mae: 0.1577\n",
      "Epoch 13/100\n",
      "48/48 [==============================] - 1s 10ms/step - loss: 0.0399 - mse: 0.0399 - mae: 0.1582 - val_loss: 0.0402 - val_mse: 0.0402 - val_mae: 0.1585\n",
      "Epoch 14/100\n",
      "48/48 [==============================] - 0s 10ms/step - loss: 0.0396 - mse: 0.0396 - mae: 0.1579 - val_loss: 0.0399 - val_mse: 0.0399 - val_mae: 0.1585\n",
      "Epoch 15/100\n",
      "48/48 [==============================] - 0s 10ms/step - loss: 0.0396 - mse: 0.0396 - mae: 0.1582 - val_loss: 0.0404 - val_mse: 0.0404 - val_mae: 0.1603\n",
      "Epoch 16/100\n",
      "48/48 [==============================] - 0s 10ms/step - loss: 0.0395 - mse: 0.0395 - mae: 0.1573 - val_loss: 0.0397 - val_mse: 0.0397 - val_mae: 0.1576\n",
      "Epoch 17/100\n",
      "48/48 [==============================] - 1s 10ms/step - loss: 0.0392 - mse: 0.0392 - mae: 0.1572 - val_loss: 0.0400 - val_mse: 0.0400 - val_mae: 0.1590\n",
      "Epoch 18/100\n",
      "48/48 [==============================] - 0s 10ms/step - loss: 0.0392 - mse: 0.0392 - mae: 0.1572 - val_loss: 0.0412 - val_mse: 0.0412 - val_mae: 0.1611\n",
      "Epoch 19/100\n",
      "48/48 [==============================] - 1s 12ms/step - loss: 0.0401 - mse: 0.0401 - mae: 0.1593 - val_loss: 0.0397 - val_mse: 0.0397 - val_mae: 0.1571\n",
      "Epoch 20/100\n",
      "48/48 [==============================] - 1s 11ms/step - loss: 0.0392 - mse: 0.0392 - mae: 0.1570 - val_loss: 0.0406 - val_mse: 0.0406 - val_mae: 0.1619\n",
      "Epoch 21/100\n",
      "48/48 [==============================] - 1s 12ms/step - loss: 0.0399 - mse: 0.0399 - mae: 0.1585 - val_loss: 0.0400 - val_mse: 0.0400 - val_mae: 0.1591\n",
      "Epoch 22/100\n",
      "48/48 [==============================] - 1s 11ms/step - loss: 0.0401 - mse: 0.0401 - mae: 0.1592 - val_loss: 0.0395 - val_mse: 0.0395 - val_mae: 0.1578\n",
      "Epoch 23/100\n",
      "48/48 [==============================] - 1s 11ms/step - loss: 0.0393 - mse: 0.0393 - mae: 0.1576 - val_loss: 0.0400 - val_mse: 0.0400 - val_mae: 0.1596\n",
      "Epoch 24/100\n",
      "48/48 [==============================] - 0s 10ms/step - loss: 0.0395 - mse: 0.0395 - mae: 0.1572 - val_loss: 0.0397 - val_mse: 0.0397 - val_mae: 0.1583\n",
      "Epoch 25/100\n",
      "48/48 [==============================] - 1s 11ms/step - loss: 0.0391 - mse: 0.0391 - mae: 0.1566 - val_loss: 0.0395 - val_mse: 0.0395 - val_mae: 0.1574\n",
      "Epoch 26/100\n",
      "48/48 [==============================] - 0s 10ms/step - loss: 0.0392 - mse: 0.0392 - mae: 0.1569 - val_loss: 0.0411 - val_mse: 0.0411 - val_mae: 0.1637\n",
      "Epoch 27/100\n",
      "48/48 [==============================] - 1s 11ms/step - loss: 0.0396 - mse: 0.0396 - mae: 0.1586 - val_loss: 0.0399 - val_mse: 0.0399 - val_mae: 0.1579\n",
      "Epoch 28/100\n",
      "48/48 [==============================] - 0s 10ms/step - loss: 0.0403 - mse: 0.0403 - mae: 0.1595 - val_loss: 0.0406 - val_mse: 0.0406 - val_mae: 0.1614\n",
      "Epoch 29/100\n",
      "48/48 [==============================] - 1s 11ms/step - loss: 0.0394 - mse: 0.0394 - mae: 0.1572 - val_loss: 0.0398 - val_mse: 0.0398 - val_mae: 0.1579\n",
      "Epoch 30/100\n",
      "48/48 [==============================] - 1s 11ms/step - loss: 0.0392 - mse: 0.0392 - mae: 0.1571 - val_loss: 0.0395 - val_mse: 0.0395 - val_mae: 0.1579\n",
      "Epoch 31/100\n",
      "48/48 [==============================] - 1s 11ms/step - loss: 0.0390 - mse: 0.0390 - mae: 0.1568 - val_loss: 0.0394 - val_mse: 0.0394 - val_mae: 0.1589\n",
      "Epoch 32/100\n",
      "48/48 [==============================] - 0s 10ms/step - loss: 0.0392 - mse: 0.0392 - mae: 0.1577 - val_loss: 0.0394 - val_mse: 0.0394 - val_mae: 0.1570\n",
      "Epoch 33/100\n",
      "48/48 [==============================] - 0s 10ms/step - loss: 0.0391 - mse: 0.0391 - mae: 0.1571 - val_loss: 0.0396 - val_mse: 0.0396 - val_mae: 0.1576\n",
      "Epoch 34/100\n",
      "48/48 [==============================] - 0s 10ms/step - loss: 0.0390 - mse: 0.0390 - mae: 0.1562 - val_loss: 0.0400 - val_mse: 0.0400 - val_mae: 0.1596\n",
      "Epoch 35/100\n",
      "48/48 [==============================] - 1s 10ms/step - loss: 0.0391 - mse: 0.0391 - mae: 0.1573 - val_loss: 0.0395 - val_mse: 0.0395 - val_mae: 0.1576\n",
      "Epoch 36/100\n",
      "48/48 [==============================] - 0s 10ms/step - loss: 0.0389 - mse: 0.0389 - mae: 0.1567 - val_loss: 0.0401 - val_mse: 0.0401 - val_mae: 0.1594\n",
      "Epoch 37/100\n",
      "48/48 [==============================] - 0s 10ms/step - loss: 0.0396 - mse: 0.0396 - mae: 0.1590 - val_loss: 0.0400 - val_mse: 0.0400 - val_mae: 0.1597\n",
      "Epoch 38/100\n",
      "48/48 [==============================] - 0s 10ms/step - loss: 0.0390 - mse: 0.0390 - mae: 0.1568 - val_loss: 0.0409 - val_mse: 0.0409 - val_mae: 0.1636\n",
      "Epoch 39/100\n",
      "48/48 [==============================] - 1s 11ms/step - loss: 0.0393 - mse: 0.0393 - mae: 0.1577 - val_loss: 0.0395 - val_mse: 0.0395 - val_mae: 0.1577\n",
      "Epoch 40/100\n",
      "48/48 [==============================] - 0s 10ms/step - loss: 0.0390 - mse: 0.0390 - mae: 0.1567 - val_loss: 0.0393 - val_mse: 0.0393 - val_mae: 0.1568\n",
      "Epoch 41/100\n",
      "48/48 [==============================] - 1s 12ms/step - loss: 0.0390 - mse: 0.0390 - mae: 0.1567 - val_loss: 0.0393 - val_mse: 0.0393 - val_mae: 0.1571\n",
      "Epoch 42/100\n",
      "48/48 [==============================] - 1s 12ms/step - loss: 0.0395 - mse: 0.0395 - mae: 0.1583 - val_loss: 0.0411 - val_mse: 0.0411 - val_mae: 0.1616\n",
      "Epoch 43/100\n",
      "48/48 [==============================] - 1s 11ms/step - loss: 0.0392 - mse: 0.0392 - mae: 0.1563 - val_loss: 0.0395 - val_mse: 0.0395 - val_mae: 0.1577\n",
      "Epoch 44/100\n",
      "48/48 [==============================] - 0s 10ms/step - loss: 0.0389 - mse: 0.0389 - mae: 0.1562 - val_loss: 0.0392 - val_mse: 0.0392 - val_mae: 0.1570\n",
      "Epoch 45/100\n",
      "48/48 [==============================] - 0s 10ms/step - loss: 0.0388 - mse: 0.0388 - mae: 0.1565 - val_loss: 0.0393 - val_mse: 0.0393 - val_mae: 0.1571\n",
      "Epoch 46/100\n",
      "48/48 [==============================] - 1s 11ms/step - loss: 0.0390 - mse: 0.0390 - mae: 0.1570 - val_loss: 0.0393 - val_mse: 0.0393 - val_mae: 0.1569\n",
      "Epoch 47/100\n",
      "48/48 [==============================] - 0s 10ms/step - loss: 0.0386 - mse: 0.0386 - mae: 0.1559 - val_loss: 0.0395 - val_mse: 0.0395 - val_mae: 0.1576\n",
      "Epoch 48/100\n",
      "48/48 [==============================] - 1s 12ms/step - loss: 0.0393 - mse: 0.0393 - mae: 0.1577 - val_loss: 0.0396 - val_mse: 0.0396 - val_mae: 0.1585\n",
      "Epoch 49/100\n",
      "48/48 [==============================] - 0s 10ms/step - loss: 0.0389 - mse: 0.0389 - mae: 0.1573 - val_loss: 0.0401 - val_mse: 0.0401 - val_mae: 0.1614\n",
      "Epoch 50/100\n",
      "48/48 [==============================] - 0s 9ms/step - loss: 0.0396 - mse: 0.0396 - mae: 0.1592 - val_loss: 0.0395 - val_mse: 0.0395 - val_mae: 0.1576\n"
     ]
    },
    {
     "name": "stdout",
     "output_type": "stream",
     "text": [
      "Epoch 51/100\n",
      "48/48 [==============================] - 0s 10ms/step - loss: 0.0390 - mse: 0.0390 - mae: 0.1559 - val_loss: 0.0398 - val_mse: 0.0398 - val_mae: 0.1590\n",
      "Epoch 52/100\n",
      "48/48 [==============================] - 1s 12ms/step - loss: 0.0393 - mse: 0.0393 - mae: 0.1576 - val_loss: 0.0393 - val_mse: 0.0393 - val_mae: 0.1564\n",
      "Epoch 53/100\n",
      "48/48 [==============================] - 0s 10ms/step - loss: 0.0386 - mse: 0.0386 - mae: 0.1555 - val_loss: 0.0393 - val_mse: 0.0393 - val_mae: 0.1574\n",
      "Epoch 54/100\n",
      "48/48 [==============================] - 0s 10ms/step - loss: 0.0393 - mse: 0.0393 - mae: 0.1580 - val_loss: 0.0400 - val_mse: 0.0400 - val_mae: 0.1606\n",
      "Epoch 55/100\n",
      "48/48 [==============================] - 1s 10ms/step - loss: 0.0390 - mse: 0.0390 - mae: 0.1575 - val_loss: 0.0390 - val_mse: 0.0390 - val_mae: 0.1572\n",
      "Epoch 56/100\n",
      "48/48 [==============================] - 0s 10ms/step - loss: 0.0387 - mse: 0.0387 - mae: 0.1564 - val_loss: 0.0406 - val_mse: 0.0406 - val_mae: 0.1610\n",
      "Epoch 57/100\n",
      "48/48 [==============================] - 1s 11ms/step - loss: 0.0394 - mse: 0.0394 - mae: 0.1579 - val_loss: 0.0401 - val_mse: 0.0401 - val_mae: 0.1606\n",
      "Epoch 58/100\n",
      "48/48 [==============================] - 0s 9ms/step - loss: 0.0387 - mse: 0.0387 - mae: 0.1557 - val_loss: 0.0393 - val_mse: 0.0393 - val_mae: 0.1570\n",
      "Epoch 59/100\n",
      "48/48 [==============================] - 0s 10ms/step - loss: 0.0386 - mse: 0.0386 - mae: 0.1559 - val_loss: 0.0391 - val_mse: 0.0391 - val_mae: 0.1564\n",
      "Epoch 60/100\n",
      "48/48 [==============================] - 0s 10ms/step - loss: 0.0385 - mse: 0.0385 - mae: 0.1560 - val_loss: 0.0414 - val_mse: 0.0414 - val_mae: 0.1624\n",
      "Epoch 61/100\n",
      "48/48 [==============================] - 0s 10ms/step - loss: 0.0398 - mse: 0.0398 - mae: 0.1579 - val_loss: 0.0390 - val_mse: 0.0390 - val_mae: 0.1554\n",
      "Epoch 62/100\n",
      "48/48 [==============================] - 0s 10ms/step - loss: 0.0386 - mse: 0.0386 - mae: 0.1551 - val_loss: 0.0407 - val_mse: 0.0407 - val_mae: 0.1618\n",
      "Epoch 63/100\n",
      "48/48 [==============================] - 0s 10ms/step - loss: 0.0391 - mse: 0.0391 - mae: 0.1569 - val_loss: 0.0398 - val_mse: 0.0398 - val_mae: 0.1585\n",
      "Epoch 64/100\n",
      "48/48 [==============================] - 0s 10ms/step - loss: 0.0385 - mse: 0.0385 - mae: 0.1554 - val_loss: 0.0391 - val_mse: 0.0391 - val_mae: 0.1559\n",
      "Epoch 65/100\n",
      "48/48 [==============================] - 0s 10ms/step - loss: 0.0386 - mse: 0.0386 - mae: 0.1554 - val_loss: 0.0390 - val_mse: 0.0390 - val_mae: 0.1562\n",
      "Epoch 66/100\n",
      "48/48 [==============================] - 0s 9ms/step - loss: 0.0388 - mse: 0.0388 - mae: 0.1563 - val_loss: 0.0392 - val_mse: 0.0392 - val_mae: 0.1581\n",
      "Epoch 67/100\n",
      "48/48 [==============================] - 1s 12ms/step - loss: 0.0385 - mse: 0.0385 - mae: 0.1557 - val_loss: 0.0390 - val_mse: 0.0390 - val_mae: 0.1565\n",
      "Epoch 68/100\n",
      "48/48 [==============================] - 1s 11ms/step - loss: 0.0384 - mse: 0.0384 - mae: 0.1550 - val_loss: 0.0391 - val_mse: 0.0391 - val_mae: 0.1561\n",
      "Epoch 69/100\n",
      "48/48 [==============================] - 1s 11ms/step - loss: 0.0386 - mse: 0.0386 - mae: 0.1553 - val_loss: 0.0391 - val_mse: 0.0391 - val_mae: 0.1560\n",
      "Epoch 70/100\n",
      "48/48 [==============================] - 1s 12ms/step - loss: 0.0383 - mse: 0.0383 - mae: 0.1540 - val_loss: 0.0391 - val_mse: 0.0391 - val_mae: 0.1578\n",
      "Epoch 71/100\n",
      "48/48 [==============================] - 1s 11ms/step - loss: 0.0392 - mse: 0.0392 - mae: 0.1579 - val_loss: 0.0400 - val_mse: 0.0400 - val_mae: 0.1594\n",
      "Epoch 72/100\n",
      "48/48 [==============================] - 1s 12ms/step - loss: 0.0387 - mse: 0.0387 - mae: 0.1557 - val_loss: 0.0391 - val_mse: 0.0391 - val_mae: 0.1559\n",
      "Epoch 73/100\n",
      "48/48 [==============================] - 0s 10ms/step - loss: 0.0384 - mse: 0.0384 - mae: 0.1541 - val_loss: 0.0390 - val_mse: 0.0390 - val_mae: 0.1563\n",
      "Epoch 74/100\n",
      "48/48 [==============================] - 1s 11ms/step - loss: 0.0387 - mse: 0.0387 - mae: 0.1554 - val_loss: 0.0410 - val_mse: 0.0410 - val_mae: 0.1625\n",
      "Epoch 75/100\n",
      "48/48 [==============================] - 0s 10ms/step - loss: 0.0389 - mse: 0.0389 - mae: 0.1552 - val_loss: 0.0388 - val_mse: 0.0388 - val_mae: 0.1554\n",
      "Epoch 76/100\n",
      "48/48 [==============================] - 0s 10ms/step - loss: 0.0384 - mse: 0.0384 - mae: 0.1555 - val_loss: 0.0390 - val_mse: 0.0390 - val_mae: 0.1563\n",
      "Epoch 77/100\n",
      "48/48 [==============================] - 0s 10ms/step - loss: 0.0382 - mse: 0.0382 - mae: 0.1548 - val_loss: 0.0391 - val_mse: 0.0391 - val_mae: 0.1554\n",
      "Epoch 78/100\n",
      "48/48 [==============================] - 0s 10ms/step - loss: 0.0383 - mse: 0.0383 - mae: 0.1536 - val_loss: 0.0389 - val_mse: 0.0389 - val_mae: 0.1553\n",
      "Epoch 79/100\n",
      "48/48 [==============================] - 0s 10ms/step - loss: 0.0382 - mse: 0.0382 - mae: 0.1542 - val_loss: 0.0391 - val_mse: 0.0391 - val_mae: 0.1571\n",
      "Epoch 80/100\n",
      "48/48 [==============================] - 0s 10ms/step - loss: 0.0384 - mse: 0.0384 - mae: 0.1553 - val_loss: 0.0396 - val_mse: 0.0396 - val_mae: 0.1590\n",
      "Epoch 81/100\n",
      "48/48 [==============================] - 0s 10ms/step - loss: 0.0385 - mse: 0.0385 - mae: 0.1558 - val_loss: 0.0388 - val_mse: 0.0388 - val_mae: 0.1555\n",
      "Epoch 82/100\n",
      "48/48 [==============================] - 0s 10ms/step - loss: 0.0381 - mse: 0.0381 - mae: 0.1537 - val_loss: 0.0391 - val_mse: 0.0391 - val_mae: 0.1560\n",
      "Epoch 83/100\n",
      "48/48 [==============================] - 0s 10ms/step - loss: 0.0385 - mse: 0.0385 - mae: 0.1552 - val_loss: 0.0393 - val_mse: 0.0393 - val_mae: 0.1567\n",
      "Epoch 84/100\n",
      "48/48 [==============================] - 0s 10ms/step - loss: 0.0385 - mse: 0.0385 - mae: 0.1550 - val_loss: 0.0391 - val_mse: 0.0391 - val_mae: 0.1562\n",
      "Epoch 85/100\n",
      "48/48 [==============================] - 0s 10ms/step - loss: 0.0389 - mse: 0.0389 - mae: 0.1571 - val_loss: 0.0419 - val_mse: 0.0419 - val_mae: 0.1633\n",
      "Epoch 86/100\n",
      "48/48 [==============================] - 0s 10ms/step - loss: 0.0387 - mse: 0.0387 - mae: 0.1549 - val_loss: 0.0393 - val_mse: 0.0393 - val_mae: 0.1569\n",
      "Epoch 87/100\n",
      "48/48 [==============================] - 0s 10ms/step - loss: 0.0381 - mse: 0.0381 - mae: 0.1528 - val_loss: 0.0388 - val_mse: 0.0388 - val_mae: 0.1557\n",
      "Epoch 88/100\n",
      "48/48 [==============================] - 0s 10ms/step - loss: 0.0386 - mse: 0.0386 - mae: 0.1562 - val_loss: 0.0392 - val_mse: 0.0392 - val_mae: 0.1582\n",
      "Epoch 89/100\n",
      "48/48 [==============================] - 0s 10ms/step - loss: 0.0381 - mse: 0.0381 - mae: 0.1540 - val_loss: 0.0387 - val_mse: 0.0387 - val_mae: 0.1552\n",
      "Epoch 90/100\n",
      "48/48 [==============================] - 0s 10ms/step - loss: 0.0380 - mse: 0.0380 - mae: 0.1544 - val_loss: 0.0396 - val_mse: 0.0396 - val_mae: 0.1575\n",
      "Epoch 91/100\n",
      "48/48 [==============================] - 1s 10ms/step - loss: 0.0384 - mse: 0.0384 - mae: 0.1543 - val_loss: 0.0387 - val_mse: 0.0387 - val_mae: 0.1547\n",
      "Epoch 92/100\n",
      "48/48 [==============================] - 0s 10ms/step - loss: 0.0380 - mse: 0.0380 - mae: 0.1529 - val_loss: 0.0387 - val_mse: 0.0387 - val_mae: 0.1541\n",
      "Epoch 93/100\n",
      "48/48 [==============================] - 0s 10ms/step - loss: 0.0379 - mse: 0.0379 - mae: 0.1525 - val_loss: 0.0390 - val_mse: 0.0390 - val_mae: 0.1561\n",
      "Epoch 94/100\n",
      "48/48 [==============================] - 0s 10ms/step - loss: 0.0381 - mse: 0.0381 - mae: 0.1534 - val_loss: 0.0389 - val_mse: 0.0389 - val_mae: 0.1558\n",
      "Epoch 95/100\n",
      "48/48 [==============================] - 0s 10ms/step - loss: 0.0385 - mse: 0.0385 - mae: 0.1547 - val_loss: 0.0387 - val_mse: 0.0387 - val_mae: 0.1556\n",
      "Epoch 96/100\n",
      "48/48 [==============================] - 0s 10ms/step - loss: 0.0380 - mse: 0.0380 - mae: 0.1535 - val_loss: 0.0396 - val_mse: 0.0396 - val_mae: 0.1573\n",
      "Epoch 97/100\n",
      "48/48 [==============================] - 1s 10ms/step - loss: 0.0380 - mse: 0.0380 - mae: 0.1539 - val_loss: 0.0403 - val_mse: 0.0403 - val_mae: 0.1597\n",
      "Epoch 98/100\n",
      "48/48 [==============================] - 0s 10ms/step - loss: 0.0384 - mse: 0.0384 - mae: 0.1543 - val_loss: 0.0395 - val_mse: 0.0395 - val_mae: 0.1586\n",
      "Epoch 99/100\n",
      "48/48 [==============================] - 1s 11ms/step - loss: 0.0382 - mse: 0.0382 - mae: 0.1545 - val_loss: 0.0394 - val_mse: 0.0394 - val_mae: 0.1582\n",
      "Epoch 100/100\n",
      "48/48 [==============================] - 0s 10ms/step - loss: 0.0385 - mse: 0.0385 - mae: 0.1555 - val_loss: 0.0402 - val_mse: 0.0402 - val_mae: 0.1599\n"
     ]
    }
   ],
   "source": [
    "# create model\n",
    "model1 = Sequential()\n",
    "model1.add(Dense(4, input_dim=3, kernel_initializer='normal', activation='relu'))\n",
    "model1.add(Dense(2106,kernel_initializer='normal', activation='relu'))\n",
    "model1.add(Dense(1, activation='linear'))\n",
    "# Compile model\n",
    "model1.compile(loss='mean_squared_error', optimizer='adam', metrics=['mse','mae'])\n",
    "# Fit the model\n",
    "hist1 = model1.fit(xtrain_scale, ytrain_scale, validation_split=0.33, epochs=100, batch_size=150)\n",
    "#At epoch 50, mse and mae just keeps oscillating back and forth"
   ]
  },
  {
   "cell_type": "code",
   "execution_count": 15,
   "id": "9c55ae8f",
   "metadata": {},
   "outputs": [
    {
     "name": "stdout",
     "output_type": "stream",
     "text": [
      "Model: \"sequential\"\n",
      "_________________________________________________________________\n",
      " Layer (type)                Output Shape              Param #   \n",
      "=================================================================\n",
      " dense (Dense)               (None, 4)                 16        \n",
      "                                                                 \n",
      " dense_1 (Dense)             (None, 2106)              10530     \n",
      "                                                                 \n",
      " dense_2 (Dense)             (None, 1)                 2107      \n",
      "                                                                 \n",
      "=================================================================\n",
      "Total params: 12,653\n",
      "Trainable params: 12,653\n",
      "Non-trainable params: 0\n",
      "_________________________________________________________________\n"
     ]
    }
   ],
   "source": [
    "model1.summary() "
   ]
  },
  {
   "cell_type": "markdown",
   "id": "b9d94e24",
   "metadata": {},
   "source": [
    "# Model Evaluation"
   ]
  },
  {
   "cell_type": "code",
   "execution_count": 17,
   "id": "37e3c9c5",
   "metadata": {},
   "outputs": [
    {
     "name": "stdout",
     "output_type": "stream",
     "text": [
      "141/141 [==============================] - 0s 3ms/step\n"
     ]
    }
   ],
   "source": [
    "y_predict = model1.predict(xtest_scale)"
   ]
  },
  {
   "cell_type": "code",
   "execution_count": 18,
   "id": "fe43a9a8",
   "metadata": {},
   "outputs": [
    {
     "name": "stdout",
     "output_type": "stream",
     "text": [
      "dict_keys(['loss', 'mse', 'mae', 'val_loss', 'val_mse', 'val_mae'])\n"
     ]
    }
   ],
   "source": [
    "print(hist1.history.keys())"
   ]
  },
  {
   "cell_type": "code",
   "execution_count": 20,
   "id": "a96b3f1a",
   "metadata": {},
   "outputs": [
    {
     "data": {
      "text/html": [
       "<div>\n",
       "<style scoped>\n",
       "    .dataframe tbody tr th:only-of-type {\n",
       "        vertical-align: middle;\n",
       "    }\n",
       "\n",
       "    .dataframe tbody tr th {\n",
       "        vertical-align: top;\n",
       "    }\n",
       "\n",
       "    .dataframe thead th {\n",
       "        text-align: right;\n",
       "    }\n",
       "</style>\n",
       "<table border=\"1\" class=\"dataframe\">\n",
       "  <thead>\n",
       "    <tr style=\"text-align: right;\">\n",
       "      <th></th>\n",
       "      <th>loss</th>\n",
       "      <th>mse</th>\n",
       "      <th>mae</th>\n",
       "      <th>val_loss</th>\n",
       "      <th>val_mse</th>\n",
       "      <th>val_mae</th>\n",
       "      <th>epoch</th>\n",
       "    </tr>\n",
       "  </thead>\n",
       "  <tbody>\n",
       "    <tr>\n",
       "      <th>95</th>\n",
       "      <td>0.037986</td>\n",
       "      <td>0.037986</td>\n",
       "      <td>0.153483</td>\n",
       "      <td>0.039625</td>\n",
       "      <td>0.039625</td>\n",
       "      <td>0.157257</td>\n",
       "      <td>95</td>\n",
       "    </tr>\n",
       "    <tr>\n",
       "      <th>96</th>\n",
       "      <td>0.037961</td>\n",
       "      <td>0.037961</td>\n",
       "      <td>0.153933</td>\n",
       "      <td>0.040350</td>\n",
       "      <td>0.040350</td>\n",
       "      <td>0.159678</td>\n",
       "      <td>96</td>\n",
       "    </tr>\n",
       "    <tr>\n",
       "      <th>97</th>\n",
       "      <td>0.038407</td>\n",
       "      <td>0.038407</td>\n",
       "      <td>0.154264</td>\n",
       "      <td>0.039460</td>\n",
       "      <td>0.039460</td>\n",
       "      <td>0.158639</td>\n",
       "      <td>97</td>\n",
       "    </tr>\n",
       "    <tr>\n",
       "      <th>98</th>\n",
       "      <td>0.038236</td>\n",
       "      <td>0.038236</td>\n",
       "      <td>0.154544</td>\n",
       "      <td>0.039362</td>\n",
       "      <td>0.039362</td>\n",
       "      <td>0.158231</td>\n",
       "      <td>98</td>\n",
       "    </tr>\n",
       "    <tr>\n",
       "      <th>99</th>\n",
       "      <td>0.038515</td>\n",
       "      <td>0.038515</td>\n",
       "      <td>0.155471</td>\n",
       "      <td>0.040178</td>\n",
       "      <td>0.040178</td>\n",
       "      <td>0.159947</td>\n",
       "      <td>99</td>\n",
       "    </tr>\n",
       "  </tbody>\n",
       "</table>\n",
       "</div>"
      ],
      "text/plain": [
       "        loss       mse       mae  val_loss   val_mse   val_mae  epoch\n",
       "95  0.037986  0.037986  0.153483  0.039625  0.039625  0.157257     95\n",
       "96  0.037961  0.037961  0.153933  0.040350  0.040350  0.159678     96\n",
       "97  0.038407  0.038407  0.154264  0.039460  0.039460  0.158639     97\n",
       "98  0.038236  0.038236  0.154544  0.039362  0.039362  0.158231     98\n",
       "99  0.038515  0.038515  0.155471  0.040178  0.040178  0.159947     99"
      ]
     },
     "execution_count": 20,
     "metadata": {},
     "output_type": "execute_result"
    }
   ],
   "source": [
    "hist1_df = pd.DataFrame(hist1.history)\n",
    "hist1_df[\"epoch\"]=hist1.epoch\n",
    "hist1_df.tail()"
   ]
  },
  {
   "cell_type": "markdown",
   "id": "c303c3c7",
   "metadata": {},
   "source": [
    "# Visualize Training History"
   ]
  },
  {
   "cell_type": "code",
   "execution_count": 23,
   "id": "04000eae",
   "metadata": {},
   "outputs": [
    {
     "data": {
      "image/png": "[encoded data removed]",
      "text/plain": [
       "<Figure size 432x288 with 1 Axes>"
      ]
     },
     "metadata": {},
     "output_type": "display_data"
    }
   ],
   "source": [
    "# summarize history for Loss\n",
    "\n",
    "sns.set(rc={'figure.figsize':(6,4)})\n",
    "\n",
    "plt.plot(hist1.history['loss'])\n",
    "plt.plot(hist1.history['val_loss'])\n",
    "plt.title('model1 loss')\n",
    "plt.ylabel('loss')\n",
    "plt.xlabel('epoch')\n",
    "plt.legend(['train', 'test'], loc='upper left')\n",
    "plt.show()"
   ]
  },
  {
   "cell_type": "code",
   "execution_count": 25,
   "id": "a746b10d",
   "metadata": {},
   "outputs": [
    {
     "data": {
      "image/png": "[encoded data removed]",
      "text/plain": [
       "<Figure size 432x288 with 1 Axes>"
      ]
     },
     "metadata": {},
     "output_type": "display_data"
    }
   ],
   "source": [
    "# summarize history for loss\n",
    "plt.plot(hist1.history['mse'])\n",
    "plt.plot(hist1.history['val_mse'])\n",
    "plt.title('model1 mse')\n",
    "plt.ylabel('mse')\n",
    "plt.xlabel('epoch')\n",
    "plt.legend(['train', 'test'], loc='upper left')\n",
    "plt.show() "
   ]
  }
 ],
 "metadata": {
  "kernelspec": {
   "display_name": "Python 3 (ipykernel)",
   "language": "python",
   "name": "python3"
  },
  "language_info": {
   "codemirror_mode": {
    "name": "ipython",
    "version": 3
   },
   "file_extension": ".py",
   "mimetype": "text/x-python",
   "name": "python",
   "nbconvert_exporter": "python",
   "pygments_lexer": "ipython3",
   "version": "3.9.7"
  }
 },
 "nbformat": 4,
 "nbformat_minor": 5
}
