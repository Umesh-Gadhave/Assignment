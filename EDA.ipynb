{
 "cells": [
  {
   "cell_type": "code",
   "execution_count": 65,
   "id": "aaf01c1a",
   "metadata": {},
   "outputs": [],
   "source": [
    "import pandas as pd\n",
    "import numpy as np"
   ]
  },
  {
   "cell_type": "code",
   "execution_count": 66,
   "id": "6cbdd852",
   "metadata": {},
   "outputs": [],
   "source": [
    "data = pd.read_csv(\"C:/Users/Admin/Downloads/Data Science - Material\\EDA/data_clean (1).csv\")"
   ]
  },
  {
   "cell_type": "code",
   "execution_count": 67,
   "id": "46f3262e",
   "metadata": {},
   "outputs": [
    {
     "data": {
      "text/html": [
       "<div>\n",
       "<style scoped>\n",
       "    .dataframe tbody tr th:only-of-type {\n",
       "        vertical-align: middle;\n",
       "    }\n",
       "\n",
       "    .dataframe tbody tr th {\n",
       "        vertical-align: top;\n",
       "    }\n",
       "\n",
       "    .dataframe thead th {\n",
       "        text-align: right;\n",
       "    }\n",
       "</style>\n",
       "<table border=\"1\" class=\"dataframe\">\n",
       "  <thead>\n",
       "    <tr style=\"text-align: right;\">\n",
       "      <th></th>\n",
       "      <th>Unnamed: 0</th>\n",
       "      <th>Ozone</th>\n",
       "      <th>Solar.R</th>\n",
       "      <th>Wind</th>\n",
       "      <th>Temp C</th>\n",
       "      <th>Month</th>\n",
       "      <th>Day</th>\n",
       "      <th>Year</th>\n",
       "      <th>Temp</th>\n",
       "      <th>Weather</th>\n",
       "    </tr>\n",
       "  </thead>\n",
       "  <tbody>\n",
       "    <tr>\n",
       "      <th>0</th>\n",
       "      <td>1</td>\n",
       "      <td>41.0</td>\n",
       "      <td>190.0</td>\n",
       "      <td>7.4</td>\n",
       "      <td>67</td>\n",
       "      <td>5</td>\n",
       "      <td>1</td>\n",
       "      <td>2010</td>\n",
       "      <td>67</td>\n",
       "      <td>S</td>\n",
       "    </tr>\n",
       "    <tr>\n",
       "      <th>1</th>\n",
       "      <td>2</td>\n",
       "      <td>36.0</td>\n",
       "      <td>118.0</td>\n",
       "      <td>8.0</td>\n",
       "      <td>72</td>\n",
       "      <td>5</td>\n",
       "      <td>2</td>\n",
       "      <td>2010</td>\n",
       "      <td>72</td>\n",
       "      <td>C</td>\n",
       "    </tr>\n",
       "    <tr>\n",
       "      <th>2</th>\n",
       "      <td>3</td>\n",
       "      <td>12.0</td>\n",
       "      <td>149.0</td>\n",
       "      <td>12.6</td>\n",
       "      <td>74</td>\n",
       "      <td>5</td>\n",
       "      <td>3</td>\n",
       "      <td>2010</td>\n",
       "      <td>74</td>\n",
       "      <td>PS</td>\n",
       "    </tr>\n",
       "    <tr>\n",
       "      <th>3</th>\n",
       "      <td>4</td>\n",
       "      <td>18.0</td>\n",
       "      <td>313.0</td>\n",
       "      <td>11.5</td>\n",
       "      <td>62</td>\n",
       "      <td>5</td>\n",
       "      <td>4</td>\n",
       "      <td>2010</td>\n",
       "      <td>62</td>\n",
       "      <td>S</td>\n",
       "    </tr>\n",
       "    <tr>\n",
       "      <th>4</th>\n",
       "      <td>5</td>\n",
       "      <td>NaN</td>\n",
       "      <td>NaN</td>\n",
       "      <td>14.3</td>\n",
       "      <td>56</td>\n",
       "      <td>5</td>\n",
       "      <td>5</td>\n",
       "      <td>2010</td>\n",
       "      <td>56</td>\n",
       "      <td>S</td>\n",
       "    </tr>\n",
       "  </tbody>\n",
       "</table>\n",
       "</div>"
      ],
      "text/plain": [
       "   Unnamed: 0  Ozone  Solar.R  Wind Temp C Month  Day  Year  Temp Weather\n",
       "0           1   41.0    190.0   7.4     67     5    1  2010    67       S\n",
       "1           2   36.0    118.0   8.0     72     5    2  2010    72       C\n",
       "2           3   12.0    149.0  12.6     74     5    3  2010    74      PS\n",
       "3           4   18.0    313.0  11.5     62     5    4  2010    62       S\n",
       "4           5    NaN      NaN  14.3     56     5    5  2010    56       S"
      ]
     },
     "execution_count": 67,
     "metadata": {},
     "output_type": "execute_result"
    }
   ],
   "source": [
    "data.head()"
   ]
  },
  {
   "cell_type": "code",
   "execution_count": 68,
   "id": "6e6f6222",
   "metadata": {},
   "outputs": [],
   "source": [
    "data=data.drop([\"Unnamed: 0\",\"Temp C\"],axis=1)"
   ]
  },
  {
   "cell_type": "code",
   "execution_count": 69,
   "id": "433d33ec",
   "metadata": {},
   "outputs": [
    {
     "name": "stdout",
     "output_type": "stream",
     "text": [
      "<class 'pandas.core.frame.DataFrame'>\n",
      "RangeIndex: 158 entries, 0 to 157\n",
      "Data columns (total 8 columns):\n",
      " #   Column   Non-Null Count  Dtype  \n",
      "---  ------   --------------  -----  \n",
      " 0   Ozone    120 non-null    float64\n",
      " 1   Solar.R  151 non-null    float64\n",
      " 2   Wind     158 non-null    float64\n",
      " 3   Month    158 non-null    object \n",
      " 4   Day      158 non-null    int64  \n",
      " 5   Year     158 non-null    int64  \n",
      " 6   Temp     158 non-null    int64  \n",
      " 7   Weather  155 non-null    object \n",
      "dtypes: float64(3), int64(3), object(2)\n",
      "memory usage: 10.0+ KB\n"
     ]
    }
   ],
   "source": [
    "data.info()"
   ]
  },
  {
   "cell_type": "code",
   "execution_count": 93,
   "id": "9b977f5b",
   "metadata": {},
   "outputs": [],
   "source": [
    "data=data.rename({'Solar.R':'Solar'},axis=1)"
   ]
  },
  {
   "cell_type": "code",
   "execution_count": 94,
   "id": "63233c8e",
   "metadata": {},
   "outputs": [],
   "source": [
    "data['Month']=pd.to_numeric(data['Month'],errors='coerce')\n",
    "data['Temp']=pd.to_numeric(data['Temp'],errors='coerce')\n",
    "data['Weather']=data['Weather'].astype('category')"
   ]
  },
  {
   "cell_type": "code",
   "execution_count": 95,
   "id": "7859c7f6",
   "metadata": {},
   "outputs": [
    {
     "name": "stdout",
     "output_type": "stream",
     "text": [
      "<class 'pandas.core.frame.DataFrame'>\n",
      "RangeIndex: 158 entries, 0 to 157\n",
      "Data columns (total 8 columns):\n",
      " #   Column   Non-Null Count  Dtype   \n",
      "---  ------   --------------  -----   \n",
      " 0   Ozone    120 non-null    float64 \n",
      " 1   Solar    151 non-null    float64 \n",
      " 2   Wind     158 non-null    float64 \n",
      " 3   Month    157 non-null    float64 \n",
      " 4   Day      158 non-null    int64   \n",
      " 5   Year     158 non-null    int64   \n",
      " 6   Temp     158 non-null    int64   \n",
      " 7   Weather  155 non-null    category\n",
      "dtypes: category(1), float64(4), int64(3)\n",
      "memory usage: 9.0 KB\n"
     ]
    }
   ],
   "source": [
    "data.info()"
   ]
  },
  {
   "cell_type": "code",
   "execution_count": 96,
   "id": "151f0407",
   "metadata": {},
   "outputs": [
    {
     "data": {
      "text/plain": [
       "(1, 8)"
      ]
     },
     "execution_count": 96,
     "metadata": {},
     "output_type": "execute_result"
    }
   ],
   "source": [
    "data[data.duplicated()].shape"
   ]
  },
  {
   "cell_type": "code",
   "execution_count": 97,
   "id": "cdbc4706",
   "metadata": {},
   "outputs": [
    {
     "data": {
      "text/html": [
       "<div>\n",
       "<style scoped>\n",
       "    .dataframe tbody tr th:only-of-type {\n",
       "        vertical-align: middle;\n",
       "    }\n",
       "\n",
       "    .dataframe tbody tr th {\n",
       "        vertical-align: top;\n",
       "    }\n",
       "\n",
       "    .dataframe thead th {\n",
       "        text-align: right;\n",
       "    }\n",
       "</style>\n",
       "<table border=\"1\" class=\"dataframe\">\n",
       "  <thead>\n",
       "    <tr style=\"text-align: right;\">\n",
       "      <th></th>\n",
       "      <th>Ozone</th>\n",
       "      <th>Solar</th>\n",
       "      <th>Wind</th>\n",
       "      <th>Month</th>\n",
       "      <th>Day</th>\n",
       "      <th>Year</th>\n",
       "      <th>Temp</th>\n",
       "      <th>Weather</th>\n",
       "    </tr>\n",
       "  </thead>\n",
       "  <tbody>\n",
       "    <tr>\n",
       "      <th>156</th>\n",
       "      <td>14.0</td>\n",
       "      <td>191.0</td>\n",
       "      <td>14.3</td>\n",
       "      <td>9.0</td>\n",
       "      <td>28</td>\n",
       "      <td>2010</td>\n",
       "      <td>75</td>\n",
       "      <td>S</td>\n",
       "    </tr>\n",
       "  </tbody>\n",
       "</table>\n",
       "</div>"
      ],
      "text/plain": [
       "     Ozone  Solar  Wind  Month  Day  Year  Temp Weather\n",
       "156   14.0  191.0  14.3    9.0   28  2010    75       S"
      ]
     },
     "execution_count": 97,
     "metadata": {},
     "output_type": "execute_result"
    }
   ],
   "source": [
    "data[data.duplicated()]"
   ]
  },
  {
   "cell_type": "code",
   "execution_count": 99,
   "id": "7be89f6e",
   "metadata": {},
   "outputs": [
    {
     "data": {
      "text/html": [
       "<div>\n",
       "<style scoped>\n",
       "    .dataframe tbody tr th:only-of-type {\n",
       "        vertical-align: middle;\n",
       "    }\n",
       "\n",
       "    .dataframe tbody tr th {\n",
       "        vertical-align: top;\n",
       "    }\n",
       "\n",
       "    .dataframe thead th {\n",
       "        text-align: right;\n",
       "    }\n",
       "</style>\n",
       "<table border=\"1\" class=\"dataframe\">\n",
       "  <thead>\n",
       "    <tr style=\"text-align: right;\">\n",
       "      <th></th>\n",
       "      <th>Ozone</th>\n",
       "      <th>Solar</th>\n",
       "      <th>Wind</th>\n",
       "      <th>Month</th>\n",
       "      <th>Day</th>\n",
       "      <th>Year</th>\n",
       "      <th>Temp</th>\n",
       "      <th>Weather</th>\n",
       "    </tr>\n",
       "  </thead>\n",
       "  <tbody>\n",
       "    <tr>\n",
       "      <th>0</th>\n",
       "      <td>41.0</td>\n",
       "      <td>190.0</td>\n",
       "      <td>7.4</td>\n",
       "      <td>5.0</td>\n",
       "      <td>1</td>\n",
       "      <td>2010</td>\n",
       "      <td>67</td>\n",
       "      <td>S</td>\n",
       "    </tr>\n",
       "    <tr>\n",
       "      <th>1</th>\n",
       "      <td>36.0</td>\n",
       "      <td>118.0</td>\n",
       "      <td>8.0</td>\n",
       "      <td>5.0</td>\n",
       "      <td>2</td>\n",
       "      <td>2010</td>\n",
       "      <td>72</td>\n",
       "      <td>C</td>\n",
       "    </tr>\n",
       "    <tr>\n",
       "      <th>2</th>\n",
       "      <td>12.0</td>\n",
       "      <td>149.0</td>\n",
       "      <td>12.6</td>\n",
       "      <td>5.0</td>\n",
       "      <td>3</td>\n",
       "      <td>2010</td>\n",
       "      <td>74</td>\n",
       "      <td>PS</td>\n",
       "    </tr>\n",
       "    <tr>\n",
       "      <th>3</th>\n",
       "      <td>18.0</td>\n",
       "      <td>313.0</td>\n",
       "      <td>11.5</td>\n",
       "      <td>5.0</td>\n",
       "      <td>4</td>\n",
       "      <td>2010</td>\n",
       "      <td>62</td>\n",
       "      <td>S</td>\n",
       "    </tr>\n",
       "    <tr>\n",
       "      <th>4</th>\n",
       "      <td>NaN</td>\n",
       "      <td>NaN</td>\n",
       "      <td>14.3</td>\n",
       "      <td>5.0</td>\n",
       "      <td>5</td>\n",
       "      <td>2010</td>\n",
       "      <td>56</td>\n",
       "      <td>S</td>\n",
       "    </tr>\n",
       "    <tr>\n",
       "      <th>...</th>\n",
       "      <td>...</td>\n",
       "      <td>...</td>\n",
       "      <td>...</td>\n",
       "      <td>...</td>\n",
       "      <td>...</td>\n",
       "      <td>...</td>\n",
       "      <td>...</td>\n",
       "      <td>...</td>\n",
       "    </tr>\n",
       "    <tr>\n",
       "      <th>152</th>\n",
       "      <td>20.0</td>\n",
       "      <td>223.0</td>\n",
       "      <td>11.5</td>\n",
       "      <td>9.0</td>\n",
       "      <td>30</td>\n",
       "      <td>2010</td>\n",
       "      <td>68</td>\n",
       "      <td>S</td>\n",
       "    </tr>\n",
       "    <tr>\n",
       "      <th>153</th>\n",
       "      <td>41.0</td>\n",
       "      <td>190.0</td>\n",
       "      <td>7.4</td>\n",
       "      <td>5.0</td>\n",
       "      <td>1</td>\n",
       "      <td>2010</td>\n",
       "      <td>67</td>\n",
       "      <td>C</td>\n",
       "    </tr>\n",
       "    <tr>\n",
       "      <th>154</th>\n",
       "      <td>30.0</td>\n",
       "      <td>193.0</td>\n",
       "      <td>6.9</td>\n",
       "      <td>9.0</td>\n",
       "      <td>26</td>\n",
       "      <td>2010</td>\n",
       "      <td>70</td>\n",
       "      <td>PS</td>\n",
       "    </tr>\n",
       "    <tr>\n",
       "      <th>155</th>\n",
       "      <td>NaN</td>\n",
       "      <td>145.0</td>\n",
       "      <td>13.2</td>\n",
       "      <td>9.0</td>\n",
       "      <td>27</td>\n",
       "      <td>2010</td>\n",
       "      <td>77</td>\n",
       "      <td>S</td>\n",
       "    </tr>\n",
       "    <tr>\n",
       "      <th>157</th>\n",
       "      <td>18.0</td>\n",
       "      <td>131.0</td>\n",
       "      <td>8.0</td>\n",
       "      <td>9.0</td>\n",
       "      <td>29</td>\n",
       "      <td>2010</td>\n",
       "      <td>76</td>\n",
       "      <td>C</td>\n",
       "    </tr>\n",
       "  </tbody>\n",
       "</table>\n",
       "<p>157 rows × 8 columns</p>\n",
       "</div>"
      ],
      "text/plain": [
       "     Ozone  Solar  Wind  Month  Day  Year  Temp Weather\n",
       "0     41.0  190.0   7.4    5.0    1  2010    67       S\n",
       "1     36.0  118.0   8.0    5.0    2  2010    72       C\n",
       "2     12.0  149.0  12.6    5.0    3  2010    74      PS\n",
       "3     18.0  313.0  11.5    5.0    4  2010    62       S\n",
       "4      NaN    NaN  14.3    5.0    5  2010    56       S\n",
       "..     ...    ...   ...    ...  ...   ...   ...     ...\n",
       "152   20.0  223.0  11.5    9.0   30  2010    68       S\n",
       "153   41.0  190.0   7.4    5.0    1  2010    67       C\n",
       "154   30.0  193.0   6.9    9.0   26  2010    70      PS\n",
       "155    NaN  145.0  13.2    9.0   27  2010    77       S\n",
       "157   18.0  131.0   8.0    9.0   29  2010    76       C\n",
       "\n",
       "[157 rows x 8 columns]"
      ]
     },
     "execution_count": 99,
     "metadata": {},
     "output_type": "execute_result"
    }
   ],
   "source": [
    "data=data.drop_duplicates()\n",
    "data"
   ]
  },
  {
   "cell_type": "code",
   "execution_count": 100,
   "id": "a08e6805",
   "metadata": {},
   "outputs": [
    {
     "data": {
      "text/plain": [
       "<AxesSubplot:>"
      ]
     },
     "execution_count": 100,
     "metadata": {},
     "output_type": "execute_result"
    },
    {
     "data": {
      "image/png": "[encoded data removed]",
      "text/plain": [
       "<Figure size 432x288 with 1 Axes>"
      ]
     },
     "metadata": {
      "needs_background": "light"
     },
     "output_type": "display_data"
    }
   ],
   "source": [
    "data['Ozone'].hist()"
   ]
  },
  {
   "cell_type": "code",
   "execution_count": 101,
   "id": "b652ece6",
   "metadata": {},
   "outputs": [
    {
     "data": {
      "text/plain": [
       "<AxesSubplot:>"
      ]
     },
     "execution_count": 101,
     "metadata": {},
     "output_type": "execute_result"
    },
    {
     "data": {
      "image/png": "[encoded data removed]",
      "text/plain": [
       "<Figure size 432x288 with 1 Axes>"
      ]
     },
     "metadata": {
      "needs_background": "light"
     },
     "output_type": "display_data"
    }
   ],
   "source": [
    "data.boxplot('Ozone')"
   ]
  },
  {
   "cell_type": "code",
   "execution_count": 102,
   "id": "8b685303",
   "metadata": {},
   "outputs": [
    {
     "data": {
      "text/plain": [
       "count    119.000000\n",
       "mean      41.815126\n",
       "std       32.659249\n",
       "min        1.000000\n",
       "25%       18.000000\n",
       "50%       31.000000\n",
       "75%       62.000000\n",
       "max      168.000000\n",
       "Name: Ozone, dtype: float64"
      ]
     },
     "execution_count": 102,
     "metadata": {},
     "output_type": "execute_result"
    }
   ],
   "source": [
    "data['Ozone'].describe()"
   ]
  },
  {
   "cell_type": "code",
   "execution_count": 103,
   "id": "6048572f",
   "metadata": {},
   "outputs": [
    {
     "data": {
      "text/plain": [
       "41.81512605042017"
      ]
     },
     "execution_count": 103,
     "metadata": {},
     "output_type": "execute_result"
    }
   ],
   "source": [
    "mean=data['Ozone'].mean()\n",
    "mean"
   ]
  },
  {
   "cell_type": "code",
   "execution_count": 104,
   "id": "95673222",
   "metadata": {},
   "outputs": [
    {
     "data": {
      "text/plain": [
       "<AxesSubplot:>"
      ]
     },
     "execution_count": 104,
     "metadata": {},
     "output_type": "execute_result"
    },
    {
     "data": {
      "image/png": "[encoded data removed]",
      "text/plain": [
       "<Figure size 432x288 with 1 Axes>"
      ]
     },
     "metadata": {
      "needs_background": "light"
     },
     "output_type": "display_data"
    }
   ],
   "source": [
    "data['Weather'].value_counts().plot.bar()"
   ]
  },
  {
   "cell_type": "code",
   "execution_count": 160,
   "id": "517bde39",
   "metadata": {},
   "outputs": [],
   "source": [
    "import seaborn as sns"
   ]
  },
  {
   "cell_type": "code",
   "execution_count": 106,
   "id": "98637eaf",
   "metadata": {},
   "outputs": [
    {
     "data": {
      "text/plain": [
       "<AxesSubplot:>"
      ]
     },
     "execution_count": 106,
     "metadata": {},
     "output_type": "execute_result"
    },
    {
     "data": {
      "image/png": "[encoded data removed]",
      "text/plain": [
       "<Figure size 432x288 with 2 Axes>"
      ]
     },
     "metadata": {
      "needs_background": "light"
     },
     "output_type": "display_data"
    }
   ],
   "source": [
    "cols=data.columns\n",
    "sns.heatmap(data[cols].isnull())"
   ]
  },
  {
   "cell_type": "code",
   "execution_count": 110,
   "id": "8c50d6cf",
   "metadata": {},
   "outputs": [
    {
     "data": {
      "text/html": [
       "<div>\n",
       "<style scoped>\n",
       "    .dataframe tbody tr th:only-of-type {\n",
       "        vertical-align: middle;\n",
       "    }\n",
       "\n",
       "    .dataframe tbody tr th {\n",
       "        vertical-align: top;\n",
       "    }\n",
       "\n",
       "    .dataframe thead th {\n",
       "        text-align: right;\n",
       "    }\n",
       "</style>\n",
       "<table border=\"1\" class=\"dataframe\">\n",
       "  <thead>\n",
       "    <tr style=\"text-align: right;\">\n",
       "      <th></th>\n",
       "      <th>Ozone</th>\n",
       "      <th>Solar</th>\n",
       "      <th>Wind</th>\n",
       "      <th>Month</th>\n",
       "      <th>Day</th>\n",
       "      <th>Year</th>\n",
       "      <th>Temp</th>\n",
       "      <th>Weather</th>\n",
       "    </tr>\n",
       "  </thead>\n",
       "  <tbody>\n",
       "    <tr>\n",
       "      <th>4</th>\n",
       "      <td>NaN</td>\n",
       "      <td>NaN</td>\n",
       "      <td>14.3</td>\n",
       "      <td>5.0</td>\n",
       "      <td>5</td>\n",
       "      <td>2010</td>\n",
       "      <td>56</td>\n",
       "      <td>S</td>\n",
       "    </tr>\n",
       "    <tr>\n",
       "      <th>5</th>\n",
       "      <td>28.0</td>\n",
       "      <td>NaN</td>\n",
       "      <td>14.9</td>\n",
       "      <td>5.0</td>\n",
       "      <td>6</td>\n",
       "      <td>2010</td>\n",
       "      <td>66</td>\n",
       "      <td>C</td>\n",
       "    </tr>\n",
       "    <tr>\n",
       "      <th>9</th>\n",
       "      <td>NaN</td>\n",
       "      <td>194.0</td>\n",
       "      <td>8.6</td>\n",
       "      <td>5.0</td>\n",
       "      <td>10</td>\n",
       "      <td>2010</td>\n",
       "      <td>69</td>\n",
       "      <td>S</td>\n",
       "    </tr>\n",
       "    <tr>\n",
       "      <th>10</th>\n",
       "      <td>7.0</td>\n",
       "      <td>NaN</td>\n",
       "      <td>6.9</td>\n",
       "      <td>5.0</td>\n",
       "      <td>11</td>\n",
       "      <td>2010</td>\n",
       "      <td>74</td>\n",
       "      <td>C</td>\n",
       "    </tr>\n",
       "    <tr>\n",
       "      <th>23</th>\n",
       "      <td>32.0</td>\n",
       "      <td>92.0</td>\n",
       "      <td>12.0</td>\n",
       "      <td>NaN</td>\n",
       "      <td>24</td>\n",
       "      <td>2010</td>\n",
       "      <td>61</td>\n",
       "      <td>C</td>\n",
       "    </tr>\n",
       "  </tbody>\n",
       "</table>\n",
       "</div>"
      ],
      "text/plain": [
       "    Ozone  Solar  Wind  Month  Day  Year  Temp Weather\n",
       "4     NaN    NaN  14.3    5.0    5  2010    56       S\n",
       "5    28.0    NaN  14.9    5.0    6  2010    66       C\n",
       "9     NaN  194.0   8.6    5.0   10  2010    69       S\n",
       "10    7.0    NaN   6.9    5.0   11  2010    74       C\n",
       "23   32.0   92.0  12.0    NaN   24  2010    61       C"
      ]
     },
     "execution_count": 110,
     "metadata": {},
     "output_type": "execute_result"
    }
   ],
   "source": [
    "data[data.isnull().any (axis=1)].head()"
   ]
  },
  {
   "cell_type": "code",
   "execution_count": 111,
   "id": "09ce8021",
   "metadata": {},
   "outputs": [
    {
     "data": {
      "text/plain": [
       "Ozone      38\n",
       "Solar       7\n",
       "Wind        0\n",
       "Month       1\n",
       "Day         0\n",
       "Year        0\n",
       "Temp        0\n",
       "Weather     3\n",
       "dtype: int64"
      ]
     },
     "execution_count": 111,
     "metadata": {},
     "output_type": "execute_result"
    }
   ],
   "source": [
    "data.isnull().sum()"
   ]
  },
  {
   "cell_type": "code",
   "execution_count": 118,
   "id": "368ed9e1",
   "metadata": {},
   "outputs": [
    {
     "name": "stdout",
     "output_type": "stream",
     "text": [
      "41.81512605042017\n"
     ]
    }
   ],
   "source": [
    "mean=data['Ozone'].mean()\n",
    "print(mean)"
   ]
  },
  {
   "cell_type": "code",
   "execution_count": 120,
   "id": "92ca9e33",
   "metadata": {},
   "outputs": [],
   "source": [
    "data['Ozone']=data['Ozone'].fillna(mean)"
   ]
  },
  {
   "cell_type": "code",
   "execution_count": 121,
   "id": "f65a6200",
   "metadata": {},
   "outputs": [
    {
     "data": {
      "text/html": [
       "<div>\n",
       "<style scoped>\n",
       "    .dataframe tbody tr th:only-of-type {\n",
       "        vertical-align: middle;\n",
       "    }\n",
       "\n",
       "    .dataframe tbody tr th {\n",
       "        vertical-align: top;\n",
       "    }\n",
       "\n",
       "    .dataframe thead th {\n",
       "        text-align: right;\n",
       "    }\n",
       "</style>\n",
       "<table border=\"1\" class=\"dataframe\">\n",
       "  <thead>\n",
       "    <tr style=\"text-align: right;\">\n",
       "      <th></th>\n",
       "      <th>Ozone</th>\n",
       "      <th>Solar</th>\n",
       "      <th>Wind</th>\n",
       "      <th>Month</th>\n",
       "      <th>Day</th>\n",
       "      <th>Year</th>\n",
       "      <th>Temp</th>\n",
       "      <th>Weather</th>\n",
       "    </tr>\n",
       "  </thead>\n",
       "  <tbody>\n",
       "    <tr>\n",
       "      <th>0</th>\n",
       "      <td>41.000000</td>\n",
       "      <td>190.0</td>\n",
       "      <td>7.4</td>\n",
       "      <td>5.0</td>\n",
       "      <td>1</td>\n",
       "      <td>2010</td>\n",
       "      <td>67</td>\n",
       "      <td>S</td>\n",
       "    </tr>\n",
       "    <tr>\n",
       "      <th>1</th>\n",
       "      <td>36.000000</td>\n",
       "      <td>118.0</td>\n",
       "      <td>8.0</td>\n",
       "      <td>5.0</td>\n",
       "      <td>2</td>\n",
       "      <td>2010</td>\n",
       "      <td>72</td>\n",
       "      <td>C</td>\n",
       "    </tr>\n",
       "    <tr>\n",
       "      <th>2</th>\n",
       "      <td>12.000000</td>\n",
       "      <td>149.0</td>\n",
       "      <td>12.6</td>\n",
       "      <td>5.0</td>\n",
       "      <td>3</td>\n",
       "      <td>2010</td>\n",
       "      <td>74</td>\n",
       "      <td>PS</td>\n",
       "    </tr>\n",
       "    <tr>\n",
       "      <th>3</th>\n",
       "      <td>18.000000</td>\n",
       "      <td>313.0</td>\n",
       "      <td>11.5</td>\n",
       "      <td>5.0</td>\n",
       "      <td>4</td>\n",
       "      <td>2010</td>\n",
       "      <td>62</td>\n",
       "      <td>S</td>\n",
       "    </tr>\n",
       "    <tr>\n",
       "      <th>4</th>\n",
       "      <td>41.815126</td>\n",
       "      <td>NaN</td>\n",
       "      <td>14.3</td>\n",
       "      <td>5.0</td>\n",
       "      <td>5</td>\n",
       "      <td>2010</td>\n",
       "      <td>56</td>\n",
       "      <td>S</td>\n",
       "    </tr>\n",
       "    <tr>\n",
       "      <th>...</th>\n",
       "      <td>...</td>\n",
       "      <td>...</td>\n",
       "      <td>...</td>\n",
       "      <td>...</td>\n",
       "      <td>...</td>\n",
       "      <td>...</td>\n",
       "      <td>...</td>\n",
       "      <td>...</td>\n",
       "    </tr>\n",
       "    <tr>\n",
       "      <th>152</th>\n",
       "      <td>20.000000</td>\n",
       "      <td>223.0</td>\n",
       "      <td>11.5</td>\n",
       "      <td>9.0</td>\n",
       "      <td>30</td>\n",
       "      <td>2010</td>\n",
       "      <td>68</td>\n",
       "      <td>S</td>\n",
       "    </tr>\n",
       "    <tr>\n",
       "      <th>153</th>\n",
       "      <td>41.000000</td>\n",
       "      <td>190.0</td>\n",
       "      <td>7.4</td>\n",
       "      <td>5.0</td>\n",
       "      <td>1</td>\n",
       "      <td>2010</td>\n",
       "      <td>67</td>\n",
       "      <td>C</td>\n",
       "    </tr>\n",
       "    <tr>\n",
       "      <th>154</th>\n",
       "      <td>30.000000</td>\n",
       "      <td>193.0</td>\n",
       "      <td>6.9</td>\n",
       "      <td>9.0</td>\n",
       "      <td>26</td>\n",
       "      <td>2010</td>\n",
       "      <td>70</td>\n",
       "      <td>PS</td>\n",
       "    </tr>\n",
       "    <tr>\n",
       "      <th>155</th>\n",
       "      <td>41.815126</td>\n",
       "      <td>145.0</td>\n",
       "      <td>13.2</td>\n",
       "      <td>9.0</td>\n",
       "      <td>27</td>\n",
       "      <td>2010</td>\n",
       "      <td>77</td>\n",
       "      <td>S</td>\n",
       "    </tr>\n",
       "    <tr>\n",
       "      <th>157</th>\n",
       "      <td>18.000000</td>\n",
       "      <td>131.0</td>\n",
       "      <td>8.0</td>\n",
       "      <td>9.0</td>\n",
       "      <td>29</td>\n",
       "      <td>2010</td>\n",
       "      <td>76</td>\n",
       "      <td>C</td>\n",
       "    </tr>\n",
       "  </tbody>\n",
       "</table>\n",
       "<p>157 rows × 8 columns</p>\n",
       "</div>"
      ],
      "text/plain": [
       "         Ozone  Solar  Wind  Month  Day  Year  Temp Weather\n",
       "0    41.000000  190.0   7.4    5.0    1  2010    67       S\n",
       "1    36.000000  118.0   8.0    5.0    2  2010    72       C\n",
       "2    12.000000  149.0  12.6    5.0    3  2010    74      PS\n",
       "3    18.000000  313.0  11.5    5.0    4  2010    62       S\n",
       "4    41.815126    NaN  14.3    5.0    5  2010    56       S\n",
       "..         ...    ...   ...    ...  ...   ...   ...     ...\n",
       "152  20.000000  223.0  11.5    9.0   30  2010    68       S\n",
       "153  41.000000  190.0   7.4    5.0    1  2010    67       C\n",
       "154  30.000000  193.0   6.9    9.0   26  2010    70      PS\n",
       "155  41.815126  145.0  13.2    9.0   27  2010    77       S\n",
       "157  18.000000  131.0   8.0    9.0   29  2010    76       C\n",
       "\n",
       "[157 rows x 8 columns]"
      ]
     },
     "execution_count": 121,
     "metadata": {},
     "output_type": "execute_result"
    }
   ],
   "source": [
    "data"
   ]
  },
  {
   "cell_type": "code",
   "execution_count": 123,
   "id": "53b8f0a4",
   "metadata": {},
   "outputs": [
    {
     "name": "stdout",
     "output_type": "stream",
     "text": [
      "185.36666666666667\n"
     ]
    }
   ],
   "source": [
    "means=data['Solar'].mean()\n",
    "print(means)"
   ]
  },
  {
   "cell_type": "code",
   "execution_count": 124,
   "id": "53ad0134",
   "metadata": {},
   "outputs": [
    {
     "data": {
      "text/plain": [
       "count    150.000000\n",
       "mean     185.366667\n",
       "std       89.019146\n",
       "min        7.000000\n",
       "25%      118.500000\n",
       "50%      199.000000\n",
       "75%      257.500000\n",
       "max      334.000000\n",
       "Name: Solar, dtype: float64"
      ]
     },
     "execution_count": 124,
     "metadata": {},
     "output_type": "execute_result"
    }
   ],
   "source": [
    "data['Solar'].describe()"
   ]
  },
  {
   "cell_type": "code",
   "execution_count": 125,
   "id": "a38c042d",
   "metadata": {},
   "outputs": [],
   "source": [
    "data['Solar']=data['Solar'].fillna(means)"
   ]
  },
  {
   "cell_type": "code",
   "execution_count": 126,
   "id": "6cdd311c",
   "metadata": {},
   "outputs": [
    {
     "data": {
      "text/html": [
       "<div>\n",
       "<style scoped>\n",
       "    .dataframe tbody tr th:only-of-type {\n",
       "        vertical-align: middle;\n",
       "    }\n",
       "\n",
       "    .dataframe tbody tr th {\n",
       "        vertical-align: top;\n",
       "    }\n",
       "\n",
       "    .dataframe thead th {\n",
       "        text-align: right;\n",
       "    }\n",
       "</style>\n",
       "<table border=\"1\" class=\"dataframe\">\n",
       "  <thead>\n",
       "    <tr style=\"text-align: right;\">\n",
       "      <th></th>\n",
       "      <th>Ozone</th>\n",
       "      <th>Solar</th>\n",
       "      <th>Wind</th>\n",
       "      <th>Month</th>\n",
       "      <th>Day</th>\n",
       "      <th>Year</th>\n",
       "      <th>Temp</th>\n",
       "      <th>Weather</th>\n",
       "    </tr>\n",
       "  </thead>\n",
       "  <tbody>\n",
       "    <tr>\n",
       "      <th>0</th>\n",
       "      <td>41.000000</td>\n",
       "      <td>190.000000</td>\n",
       "      <td>7.4</td>\n",
       "      <td>5.0</td>\n",
       "      <td>1</td>\n",
       "      <td>2010</td>\n",
       "      <td>67</td>\n",
       "      <td>S</td>\n",
       "    </tr>\n",
       "    <tr>\n",
       "      <th>1</th>\n",
       "      <td>36.000000</td>\n",
       "      <td>118.000000</td>\n",
       "      <td>8.0</td>\n",
       "      <td>5.0</td>\n",
       "      <td>2</td>\n",
       "      <td>2010</td>\n",
       "      <td>72</td>\n",
       "      <td>C</td>\n",
       "    </tr>\n",
       "    <tr>\n",
       "      <th>2</th>\n",
       "      <td>12.000000</td>\n",
       "      <td>149.000000</td>\n",
       "      <td>12.6</td>\n",
       "      <td>5.0</td>\n",
       "      <td>3</td>\n",
       "      <td>2010</td>\n",
       "      <td>74</td>\n",
       "      <td>PS</td>\n",
       "    </tr>\n",
       "    <tr>\n",
       "      <th>3</th>\n",
       "      <td>18.000000</td>\n",
       "      <td>313.000000</td>\n",
       "      <td>11.5</td>\n",
       "      <td>5.0</td>\n",
       "      <td>4</td>\n",
       "      <td>2010</td>\n",
       "      <td>62</td>\n",
       "      <td>S</td>\n",
       "    </tr>\n",
       "    <tr>\n",
       "      <th>4</th>\n",
       "      <td>41.815126</td>\n",
       "      <td>185.366667</td>\n",
       "      <td>14.3</td>\n",
       "      <td>5.0</td>\n",
       "      <td>5</td>\n",
       "      <td>2010</td>\n",
       "      <td>56</td>\n",
       "      <td>S</td>\n",
       "    </tr>\n",
       "    <tr>\n",
       "      <th>...</th>\n",
       "      <td>...</td>\n",
       "      <td>...</td>\n",
       "      <td>...</td>\n",
       "      <td>...</td>\n",
       "      <td>...</td>\n",
       "      <td>...</td>\n",
       "      <td>...</td>\n",
       "      <td>...</td>\n",
       "    </tr>\n",
       "    <tr>\n",
       "      <th>152</th>\n",
       "      <td>20.000000</td>\n",
       "      <td>223.000000</td>\n",
       "      <td>11.5</td>\n",
       "      <td>9.0</td>\n",
       "      <td>30</td>\n",
       "      <td>2010</td>\n",
       "      <td>68</td>\n",
       "      <td>S</td>\n",
       "    </tr>\n",
       "    <tr>\n",
       "      <th>153</th>\n",
       "      <td>41.000000</td>\n",
       "      <td>190.000000</td>\n",
       "      <td>7.4</td>\n",
       "      <td>5.0</td>\n",
       "      <td>1</td>\n",
       "      <td>2010</td>\n",
       "      <td>67</td>\n",
       "      <td>C</td>\n",
       "    </tr>\n",
       "    <tr>\n",
       "      <th>154</th>\n",
       "      <td>30.000000</td>\n",
       "      <td>193.000000</td>\n",
       "      <td>6.9</td>\n",
       "      <td>9.0</td>\n",
       "      <td>26</td>\n",
       "      <td>2010</td>\n",
       "      <td>70</td>\n",
       "      <td>PS</td>\n",
       "    </tr>\n",
       "    <tr>\n",
       "      <th>155</th>\n",
       "      <td>41.815126</td>\n",
       "      <td>145.000000</td>\n",
       "      <td>13.2</td>\n",
       "      <td>9.0</td>\n",
       "      <td>27</td>\n",
       "      <td>2010</td>\n",
       "      <td>77</td>\n",
       "      <td>S</td>\n",
       "    </tr>\n",
       "    <tr>\n",
       "      <th>157</th>\n",
       "      <td>18.000000</td>\n",
       "      <td>131.000000</td>\n",
       "      <td>8.0</td>\n",
       "      <td>9.0</td>\n",
       "      <td>29</td>\n",
       "      <td>2010</td>\n",
       "      <td>76</td>\n",
       "      <td>C</td>\n",
       "    </tr>\n",
       "  </tbody>\n",
       "</table>\n",
       "<p>157 rows × 8 columns</p>\n",
       "</div>"
      ],
      "text/plain": [
       "         Ozone       Solar  Wind  Month  Day  Year  Temp Weather\n",
       "0    41.000000  190.000000   7.4    5.0    1  2010    67       S\n",
       "1    36.000000  118.000000   8.0    5.0    2  2010    72       C\n",
       "2    12.000000  149.000000  12.6    5.0    3  2010    74      PS\n",
       "3    18.000000  313.000000  11.5    5.0    4  2010    62       S\n",
       "4    41.815126  185.366667  14.3    5.0    5  2010    56       S\n",
       "..         ...         ...   ...    ...  ...   ...   ...     ...\n",
       "152  20.000000  223.000000  11.5    9.0   30  2010    68       S\n",
       "153  41.000000  190.000000   7.4    5.0    1  2010    67       C\n",
       "154  30.000000  193.000000   6.9    9.0   26  2010    70      PS\n",
       "155  41.815126  145.000000  13.2    9.0   27  2010    77       S\n",
       "157  18.000000  131.000000   8.0    9.0   29  2010    76       C\n",
       "\n",
       "[157 rows x 8 columns]"
      ]
     },
     "execution_count": 126,
     "metadata": {},
     "output_type": "execute_result"
    }
   ],
   "source": [
    "data"
   ]
  },
  {
   "cell_type": "code",
   "execution_count": 127,
   "id": "13e018ce",
   "metadata": {},
   "outputs": [],
   "source": [
    "wether=data[['Weather']]"
   ]
  },
  {
   "cell_type": "code",
   "execution_count": 129,
   "id": "f82770a1",
   "metadata": {},
   "outputs": [
    {
     "data": {
      "text/plain": [
       "Weather    3\n",
       "dtype: int64"
      ]
     },
     "execution_count": 129,
     "metadata": {},
     "output_type": "execute_result"
    }
   ],
   "source": [
    "wether.isnull().sum()"
   ]
  },
  {
   "cell_type": "code",
   "execution_count": 134,
   "id": "59c43219",
   "metadata": {},
   "outputs": [],
   "source": [
    "wether=wether.fillna(wether.mode().iloc[0])"
   ]
  },
  {
   "cell_type": "code",
   "execution_count": 135,
   "id": "495a384d",
   "metadata": {},
   "outputs": [
    {
     "data": {
      "text/plain": [
       "Weather    0\n",
       "dtype: int64"
      ]
     },
     "execution_count": 135,
     "metadata": {},
     "output_type": "execute_result"
    }
   ],
   "source": [
    "wether.isnull().sum()"
   ]
  },
  {
   "cell_type": "code",
   "execution_count": 139,
   "id": "ef2b83d7",
   "metadata": {},
   "outputs": [],
   "source": [
    "data1=pd.concat([data,wether],axis=1)"
   ]
  },
  {
   "cell_type": "code",
   "execution_count": 140,
   "id": "82a49a4a",
   "metadata": {},
   "outputs": [
    {
     "data": {
      "text/html": [
       "<div>\n",
       "<style scoped>\n",
       "    .dataframe tbody tr th:only-of-type {\n",
       "        vertical-align: middle;\n",
       "    }\n",
       "\n",
       "    .dataframe tbody tr th {\n",
       "        vertical-align: top;\n",
       "    }\n",
       "\n",
       "    .dataframe thead th {\n",
       "        text-align: right;\n",
       "    }\n",
       "</style>\n",
       "<table border=\"1\" class=\"dataframe\">\n",
       "  <thead>\n",
       "    <tr style=\"text-align: right;\">\n",
       "      <th></th>\n",
       "      <th>Ozone</th>\n",
       "      <th>Solar</th>\n",
       "      <th>Wind</th>\n",
       "      <th>Month</th>\n",
       "      <th>Day</th>\n",
       "      <th>Year</th>\n",
       "      <th>Temp</th>\n",
       "      <th>Weather</th>\n",
       "      <th>Weather</th>\n",
       "    </tr>\n",
       "  </thead>\n",
       "  <tbody>\n",
       "    <tr>\n",
       "      <th>0</th>\n",
       "      <td>41.000000</td>\n",
       "      <td>190.000000</td>\n",
       "      <td>7.4</td>\n",
       "      <td>5.0</td>\n",
       "      <td>1</td>\n",
       "      <td>2010</td>\n",
       "      <td>67</td>\n",
       "      <td>S</td>\n",
       "      <td>S</td>\n",
       "    </tr>\n",
       "    <tr>\n",
       "      <th>1</th>\n",
       "      <td>36.000000</td>\n",
       "      <td>118.000000</td>\n",
       "      <td>8.0</td>\n",
       "      <td>5.0</td>\n",
       "      <td>2</td>\n",
       "      <td>2010</td>\n",
       "      <td>72</td>\n",
       "      <td>C</td>\n",
       "      <td>C</td>\n",
       "    </tr>\n",
       "    <tr>\n",
       "      <th>2</th>\n",
       "      <td>12.000000</td>\n",
       "      <td>149.000000</td>\n",
       "      <td>12.6</td>\n",
       "      <td>5.0</td>\n",
       "      <td>3</td>\n",
       "      <td>2010</td>\n",
       "      <td>74</td>\n",
       "      <td>PS</td>\n",
       "      <td>PS</td>\n",
       "    </tr>\n",
       "    <tr>\n",
       "      <th>3</th>\n",
       "      <td>18.000000</td>\n",
       "      <td>313.000000</td>\n",
       "      <td>11.5</td>\n",
       "      <td>5.0</td>\n",
       "      <td>4</td>\n",
       "      <td>2010</td>\n",
       "      <td>62</td>\n",
       "      <td>S</td>\n",
       "      <td>S</td>\n",
       "    </tr>\n",
       "    <tr>\n",
       "      <th>4</th>\n",
       "      <td>41.815126</td>\n",
       "      <td>185.366667</td>\n",
       "      <td>14.3</td>\n",
       "      <td>5.0</td>\n",
       "      <td>5</td>\n",
       "      <td>2010</td>\n",
       "      <td>56</td>\n",
       "      <td>S</td>\n",
       "      <td>S</td>\n",
       "    </tr>\n",
       "    <tr>\n",
       "      <th>...</th>\n",
       "      <td>...</td>\n",
       "      <td>...</td>\n",
       "      <td>...</td>\n",
       "      <td>...</td>\n",
       "      <td>...</td>\n",
       "      <td>...</td>\n",
       "      <td>...</td>\n",
       "      <td>...</td>\n",
       "      <td>...</td>\n",
       "    </tr>\n",
       "    <tr>\n",
       "      <th>152</th>\n",
       "      <td>20.000000</td>\n",
       "      <td>223.000000</td>\n",
       "      <td>11.5</td>\n",
       "      <td>9.0</td>\n",
       "      <td>30</td>\n",
       "      <td>2010</td>\n",
       "      <td>68</td>\n",
       "      <td>S</td>\n",
       "      <td>S</td>\n",
       "    </tr>\n",
       "    <tr>\n",
       "      <th>153</th>\n",
       "      <td>41.000000</td>\n",
       "      <td>190.000000</td>\n",
       "      <td>7.4</td>\n",
       "      <td>5.0</td>\n",
       "      <td>1</td>\n",
       "      <td>2010</td>\n",
       "      <td>67</td>\n",
       "      <td>C</td>\n",
       "      <td>C</td>\n",
       "    </tr>\n",
       "    <tr>\n",
       "      <th>154</th>\n",
       "      <td>30.000000</td>\n",
       "      <td>193.000000</td>\n",
       "      <td>6.9</td>\n",
       "      <td>9.0</td>\n",
       "      <td>26</td>\n",
       "      <td>2010</td>\n",
       "      <td>70</td>\n",
       "      <td>PS</td>\n",
       "      <td>PS</td>\n",
       "    </tr>\n",
       "    <tr>\n",
       "      <th>155</th>\n",
       "      <td>41.815126</td>\n",
       "      <td>145.000000</td>\n",
       "      <td>13.2</td>\n",
       "      <td>9.0</td>\n",
       "      <td>27</td>\n",
       "      <td>2010</td>\n",
       "      <td>77</td>\n",
       "      <td>S</td>\n",
       "      <td>S</td>\n",
       "    </tr>\n",
       "    <tr>\n",
       "      <th>157</th>\n",
       "      <td>18.000000</td>\n",
       "      <td>131.000000</td>\n",
       "      <td>8.0</td>\n",
       "      <td>9.0</td>\n",
       "      <td>29</td>\n",
       "      <td>2010</td>\n",
       "      <td>76</td>\n",
       "      <td>C</td>\n",
       "      <td>C</td>\n",
       "    </tr>\n",
       "  </tbody>\n",
       "</table>\n",
       "<p>157 rows × 9 columns</p>\n",
       "</div>"
      ],
      "text/plain": [
       "         Ozone       Solar  Wind  Month  Day  Year  Temp Weather Weather\n",
       "0    41.000000  190.000000   7.4    5.0    1  2010    67       S       S\n",
       "1    36.000000  118.000000   8.0    5.0    2  2010    72       C       C\n",
       "2    12.000000  149.000000  12.6    5.0    3  2010    74      PS      PS\n",
       "3    18.000000  313.000000  11.5    5.0    4  2010    62       S       S\n",
       "4    41.815126  185.366667  14.3    5.0    5  2010    56       S       S\n",
       "..         ...         ...   ...    ...  ...   ...   ...     ...     ...\n",
       "152  20.000000  223.000000  11.5    9.0   30  2010    68       S       S\n",
       "153  41.000000  190.000000   7.4    5.0    1  2010    67       C       C\n",
       "154  30.000000  193.000000   6.9    9.0   26  2010    70      PS      PS\n",
       "155  41.815126  145.000000  13.2    9.0   27  2010    77       S       S\n",
       "157  18.000000  131.000000   8.0    9.0   29  2010    76       C       C\n",
       "\n",
       "[157 rows x 9 columns]"
      ]
     },
     "execution_count": 140,
     "metadata": {},
     "output_type": "execute_result"
    }
   ],
   "source": [
    "data1"
   ]
  },
  {
   "cell_type": "code",
   "execution_count": 143,
   "id": "89182e61",
   "metadata": {},
   "outputs": [
    {
     "data": {
      "text/plain": [
       "Ozone      0\n",
       "Solar      0\n",
       "Wind       0\n",
       "Month      1\n",
       "Day        0\n",
       "Year       0\n",
       "Temp       0\n",
       "Weather    3\n",
       "Weather    0\n",
       "dtype: int64"
      ]
     },
     "execution_count": 143,
     "metadata": {},
     "output_type": "execute_result"
    }
   ],
   "source": [
    "data1.isnull().sum()"
   ]
  },
  {
   "cell_type": "code",
   "execution_count": 149,
   "id": "5dd8998b",
   "metadata": {},
   "outputs": [
    {
     "data": {
      "text/plain": [
       "7.032051282051282"
      ]
     },
     "execution_count": 149,
     "metadata": {},
     "output_type": "execute_result"
    }
   ],
   "source": [
    "mean=data1['Month'].mean()\n",
    "mean"
   ]
  },
  {
   "cell_type": "code",
   "execution_count": 150,
   "id": "38b3cc04",
   "metadata": {},
   "outputs": [],
   "source": [
    "data1['Month']=data1['Month'].fillna(mean)"
   ]
  },
  {
   "cell_type": "code",
   "execution_count": 155,
   "id": "8ab34761",
   "metadata": {},
   "outputs": [
    {
     "data": {
      "text/plain": [
       "Ozone      0\n",
       "Solar      0\n",
       "Wind       0\n",
       "Month      0\n",
       "Day        0\n",
       "Year       0\n",
       "Temp       0\n",
       "Weather    3\n",
       "Weather    0\n",
       "dtype: int64"
      ]
     },
     "execution_count": 155,
     "metadata": {},
     "output_type": "execute_result"
    }
   ],
   "source": [
    "data1.isnull().sum()"
   ]
  },
  {
   "cell_type": "code",
   "execution_count": 158,
   "id": "47175874",
   "metadata": {},
   "outputs": [
    {
     "data": {
      "text/html": [
       "<div>\n",
       "<style scoped>\n",
       "    .dataframe tbody tr th:only-of-type {\n",
       "        vertical-align: middle;\n",
       "    }\n",
       "\n",
       "    .dataframe tbody tr th {\n",
       "        vertical-align: top;\n",
       "    }\n",
       "\n",
       "    .dataframe thead th {\n",
       "        text-align: right;\n",
       "    }\n",
       "</style>\n",
       "<table border=\"1\" class=\"dataframe\">\n",
       "  <thead>\n",
       "    <tr style=\"text-align: right;\">\n",
       "      <th></th>\n",
       "      <th>Ozone</th>\n",
       "      <th>Solar</th>\n",
       "      <th>Wind</th>\n",
       "      <th>Month</th>\n",
       "      <th>Day</th>\n",
       "      <th>Year</th>\n",
       "      <th>Temp</th>\n",
       "      <th>Weather</th>\n",
       "      <th>Weather</th>\n",
       "    </tr>\n",
       "  </thead>\n",
       "  <tbody>\n",
       "    <tr>\n",
       "      <th>0</th>\n",
       "      <td>41.0</td>\n",
       "      <td>190.0</td>\n",
       "      <td>7.4</td>\n",
       "      <td>5.0</td>\n",
       "      <td>1</td>\n",
       "      <td>2010</td>\n",
       "      <td>67</td>\n",
       "      <td>S</td>\n",
       "      <td>S</td>\n",
       "    </tr>\n",
       "    <tr>\n",
       "      <th>1</th>\n",
       "      <td>36.0</td>\n",
       "      <td>118.0</td>\n",
       "      <td>8.0</td>\n",
       "      <td>5.0</td>\n",
       "      <td>2</td>\n",
       "      <td>2010</td>\n",
       "      <td>72</td>\n",
       "      <td>C</td>\n",
       "      <td>C</td>\n",
       "    </tr>\n",
       "    <tr>\n",
       "      <th>2</th>\n",
       "      <td>12.0</td>\n",
       "      <td>149.0</td>\n",
       "      <td>12.6</td>\n",
       "      <td>5.0</td>\n",
       "      <td>3</td>\n",
       "      <td>2010</td>\n",
       "      <td>74</td>\n",
       "      <td>PS</td>\n",
       "      <td>PS</td>\n",
       "    </tr>\n",
       "    <tr>\n",
       "      <th>3</th>\n",
       "      <td>18.0</td>\n",
       "      <td>313.0</td>\n",
       "      <td>11.5</td>\n",
       "      <td>5.0</td>\n",
       "      <td>4</td>\n",
       "      <td>2010</td>\n",
       "      <td>62</td>\n",
       "      <td>S</td>\n",
       "      <td>S</td>\n",
       "    </tr>\n",
       "    <tr>\n",
       "      <th>4</th>\n",
       "      <td>41.815126</td>\n",
       "      <td>185.366667</td>\n",
       "      <td>14.3</td>\n",
       "      <td>5.0</td>\n",
       "      <td>5</td>\n",
       "      <td>2010</td>\n",
       "      <td>56</td>\n",
       "      <td>S</td>\n",
       "      <td>S</td>\n",
       "    </tr>\n",
       "  </tbody>\n",
       "</table>\n",
       "</div>"
      ],
      "text/plain": [
       "       Ozone       Solar  Wind Month Day  Year Temp Weather Weather\n",
       "0       41.0       190.0   7.4   5.0   1  2010   67       S       S\n",
       "1       36.0       118.0   8.0   5.0   2  2010   72       C       C\n",
       "2       12.0       149.0  12.6   5.0   3  2010   74      PS      PS\n",
       "3       18.0       313.0  11.5   5.0   4  2010   62       S       S\n",
       "4  41.815126  185.366667  14.3   5.0   5  2010   56       S       S"
      ]
     },
     "execution_count": 158,
     "metadata": {},
     "output_type": "execute_result"
    }
   ],
   "source": [
    "data1.head(5)"
   ]
  },
  {
   "cell_type": "code",
   "execution_count": 161,
   "id": "b4cb11ec",
   "metadata": {},
   "outputs": [
    {
     "data": {
      "text/plain": [
       "<AxesSubplot:>"
      ]
     },
     "execution_count": 161,
     "metadata": {},
     "output_type": "execute_result"
    },
    {
     "data": {
      "image/png": "[encoded data removed]",
      "text/plain": [
       "<Figure size 432x288 with 2 Axes>"
      ]
     },
     "metadata": {
      "needs_background": "light"
     },
     "output_type": "display_data"
    }
   ],
   "source": [
    "col=data1.columns\n",
    "sns.heatmap(data1[col].isnull())"
   ]
  },
  {
   "cell_type": "code",
   "execution_count": 170,
   "id": "c8b7fc2e",
   "metadata": {},
   "outputs": [
    {
     "data": {
      "text/plain": [
       "<seaborn.axisgrid.PairGrid at 0x1e7ba1f9e20>"
      ]
     },
     "execution_count": 170,
     "metadata": {},
     "output_type": "execute_result"
    },
    {
     "data": {
      "image/png": "[encoded data removed]",
      "text/plain": [
       "<Figure size 1260x1260 with 56 Axes>"
      ]
     },
     "metadata": {
      "needs_background": "light"
     },
     "output_type": "display_data"
    }
   ],
   "source": [
    "import seaborn as sns\n",
    "sns.pairplot(data)"
   ]
  },
  {
   "cell_type": "code",
   "execution_count": 171,
   "id": "b1a19d6f",
   "metadata": {},
   "outputs": [
    {
     "data": {
      "text/html": [
       "<div>\n",
       "<style scoped>\n",
       "    .dataframe tbody tr th:only-of-type {\n",
       "        vertical-align: middle;\n",
       "    }\n",
       "\n",
       "    .dataframe tbody tr th {\n",
       "        vertical-align: top;\n",
       "    }\n",
       "\n",
       "    .dataframe thead th {\n",
       "        text-align: right;\n",
       "    }\n",
       "</style>\n",
       "<table border=\"1\" class=\"dataframe\">\n",
       "  <thead>\n",
       "    <tr style=\"text-align: right;\">\n",
       "      <th></th>\n",
       "      <th>Ozone</th>\n",
       "      <th>Solar</th>\n",
       "      <th>Wind</th>\n",
       "      <th>Month</th>\n",
       "      <th>Day</th>\n",
       "      <th>Year</th>\n",
       "      <th>Temp</th>\n",
       "    </tr>\n",
       "  </thead>\n",
       "  <tbody>\n",
       "    <tr>\n",
       "      <th>Ozone</th>\n",
       "      <td>1.000000</td>\n",
       "      <td>0.304559</td>\n",
       "      <td>-0.520004</td>\n",
       "      <td>0.035964</td>\n",
       "      <td>-0.021916</td>\n",
       "      <td>NaN</td>\n",
       "      <td>0.606500</td>\n",
       "    </tr>\n",
       "    <tr>\n",
       "      <th>Solar</th>\n",
       "      <td>0.304559</td>\n",
       "      <td>1.000000</td>\n",
       "      <td>-0.055874</td>\n",
       "      <td>-0.118045</td>\n",
       "      <td>-0.151007</td>\n",
       "      <td>NaN</td>\n",
       "      <td>0.260677</td>\n",
       "    </tr>\n",
       "    <tr>\n",
       "      <th>Wind</th>\n",
       "      <td>-0.520004</td>\n",
       "      <td>-0.055874</td>\n",
       "      <td>1.000000</td>\n",
       "      <td>-0.033629</td>\n",
       "      <td>0.029900</td>\n",
       "      <td>NaN</td>\n",
       "      <td>-0.441228</td>\n",
       "    </tr>\n",
       "    <tr>\n",
       "      <th>Month</th>\n",
       "      <td>0.035964</td>\n",
       "      <td>-0.118045</td>\n",
       "      <td>-0.033629</td>\n",
       "      <td>1.000000</td>\n",
       "      <td>0.087055</td>\n",
       "      <td>NaN</td>\n",
       "      <td>0.052919</td>\n",
       "    </tr>\n",
       "    <tr>\n",
       "      <th>Day</th>\n",
       "      <td>-0.021916</td>\n",
       "      <td>-0.151007</td>\n",
       "      <td>0.029900</td>\n",
       "      <td>0.087055</td>\n",
       "      <td>1.000000</td>\n",
       "      <td>NaN</td>\n",
       "      <td>-0.122787</td>\n",
       "    </tr>\n",
       "    <tr>\n",
       "      <th>Year</th>\n",
       "      <td>NaN</td>\n",
       "      <td>NaN</td>\n",
       "      <td>NaN</td>\n",
       "      <td>NaN</td>\n",
       "      <td>NaN</td>\n",
       "      <td>NaN</td>\n",
       "      <td>NaN</td>\n",
       "    </tr>\n",
       "    <tr>\n",
       "      <th>Temp</th>\n",
       "      <td>0.606500</td>\n",
       "      <td>0.260677</td>\n",
       "      <td>-0.441228</td>\n",
       "      <td>0.052919</td>\n",
       "      <td>-0.122787</td>\n",
       "      <td>NaN</td>\n",
       "      <td>1.000000</td>\n",
       "    </tr>\n",
       "  </tbody>\n",
       "</table>\n",
       "</div>"
      ],
      "text/plain": [
       "          Ozone     Solar      Wind     Month       Day  Year      Temp\n",
       "Ozone  1.000000  0.304559 -0.520004  0.035964 -0.021916   NaN  0.606500\n",
       "Solar  0.304559  1.000000 -0.055874 -0.118045 -0.151007   NaN  0.260677\n",
       "Wind  -0.520004 -0.055874  1.000000 -0.033629  0.029900   NaN -0.441228\n",
       "Month  0.035964 -0.118045 -0.033629  1.000000  0.087055   NaN  0.052919\n",
       "Day   -0.021916 -0.151007  0.029900  0.087055  1.000000   NaN -0.122787\n",
       "Year        NaN       NaN       NaN       NaN       NaN   NaN       NaN\n",
       "Temp   0.606500  0.260677 -0.441228  0.052919 -0.122787   NaN  1.000000"
      ]
     },
     "execution_count": 171,
     "metadata": {},
     "output_type": "execute_result"
    }
   ],
   "source": [
    "data.corr()"
   ]
  },
  {
   "cell_type": "code",
   "execution_count": 175,
   "id": "4f6745e2",
   "metadata": {},
   "outputs": [],
   "source": [
    "data1=pd.get_dummies(data,columns=['Weather'])"
   ]
  },
  {
   "cell_type": "code",
   "execution_count": 176,
   "id": "1b15668c",
   "metadata": {},
   "outputs": [
    {
     "data": {
      "text/html": [
       "<div>\n",
       "<style scoped>\n",
       "    .dataframe tbody tr th:only-of-type {\n",
       "        vertical-align: middle;\n",
       "    }\n",
       "\n",
       "    .dataframe tbody tr th {\n",
       "        vertical-align: top;\n",
       "    }\n",
       "\n",
       "    .dataframe thead th {\n",
       "        text-align: right;\n",
       "    }\n",
       "</style>\n",
       "<table border=\"1\" class=\"dataframe\">\n",
       "  <thead>\n",
       "    <tr style=\"text-align: right;\">\n",
       "      <th></th>\n",
       "      <th>Ozone</th>\n",
       "      <th>Solar</th>\n",
       "      <th>Wind</th>\n",
       "      <th>Month</th>\n",
       "      <th>Day</th>\n",
       "      <th>Year</th>\n",
       "      <th>Temp</th>\n",
       "      <th>Weather_C</th>\n",
       "      <th>Weather_PS</th>\n",
       "      <th>Weather_S</th>\n",
       "    </tr>\n",
       "  </thead>\n",
       "  <tbody>\n",
       "    <tr>\n",
       "      <th>0</th>\n",
       "      <td>41.000000</td>\n",
       "      <td>190.000000</td>\n",
       "      <td>7.4</td>\n",
       "      <td>5.0</td>\n",
       "      <td>1</td>\n",
       "      <td>2010</td>\n",
       "      <td>67</td>\n",
       "      <td>0</td>\n",
       "      <td>0</td>\n",
       "      <td>1</td>\n",
       "    </tr>\n",
       "    <tr>\n",
       "      <th>1</th>\n",
       "      <td>36.000000</td>\n",
       "      <td>118.000000</td>\n",
       "      <td>8.0</td>\n",
       "      <td>5.0</td>\n",
       "      <td>2</td>\n",
       "      <td>2010</td>\n",
       "      <td>72</td>\n",
       "      <td>1</td>\n",
       "      <td>0</td>\n",
       "      <td>0</td>\n",
       "    </tr>\n",
       "    <tr>\n",
       "      <th>2</th>\n",
       "      <td>12.000000</td>\n",
       "      <td>149.000000</td>\n",
       "      <td>12.6</td>\n",
       "      <td>5.0</td>\n",
       "      <td>3</td>\n",
       "      <td>2010</td>\n",
       "      <td>74</td>\n",
       "      <td>0</td>\n",
       "      <td>1</td>\n",
       "      <td>0</td>\n",
       "    </tr>\n",
       "    <tr>\n",
       "      <th>3</th>\n",
       "      <td>18.000000</td>\n",
       "      <td>313.000000</td>\n",
       "      <td>11.5</td>\n",
       "      <td>5.0</td>\n",
       "      <td>4</td>\n",
       "      <td>2010</td>\n",
       "      <td>62</td>\n",
       "      <td>0</td>\n",
       "      <td>0</td>\n",
       "      <td>1</td>\n",
       "    </tr>\n",
       "    <tr>\n",
       "      <th>4</th>\n",
       "      <td>41.815126</td>\n",
       "      <td>185.366667</td>\n",
       "      <td>14.3</td>\n",
       "      <td>5.0</td>\n",
       "      <td>5</td>\n",
       "      <td>2010</td>\n",
       "      <td>56</td>\n",
       "      <td>0</td>\n",
       "      <td>0</td>\n",
       "      <td>1</td>\n",
       "    </tr>\n",
       "    <tr>\n",
       "      <th>...</th>\n",
       "      <td>...</td>\n",
       "      <td>...</td>\n",
       "      <td>...</td>\n",
       "      <td>...</td>\n",
       "      <td>...</td>\n",
       "      <td>...</td>\n",
       "      <td>...</td>\n",
       "      <td>...</td>\n",
       "      <td>...</td>\n",
       "      <td>...</td>\n",
       "    </tr>\n",
       "    <tr>\n",
       "      <th>152</th>\n",
       "      <td>20.000000</td>\n",
       "      <td>223.000000</td>\n",
       "      <td>11.5</td>\n",
       "      <td>9.0</td>\n",
       "      <td>30</td>\n",
       "      <td>2010</td>\n",
       "      <td>68</td>\n",
       "      <td>0</td>\n",
       "      <td>0</td>\n",
       "      <td>1</td>\n",
       "    </tr>\n",
       "    <tr>\n",
       "      <th>153</th>\n",
       "      <td>41.000000</td>\n",
       "      <td>190.000000</td>\n",
       "      <td>7.4</td>\n",
       "      <td>5.0</td>\n",
       "      <td>1</td>\n",
       "      <td>2010</td>\n",
       "      <td>67</td>\n",
       "      <td>1</td>\n",
       "      <td>0</td>\n",
       "      <td>0</td>\n",
       "    </tr>\n",
       "    <tr>\n",
       "      <th>154</th>\n",
       "      <td>30.000000</td>\n",
       "      <td>193.000000</td>\n",
       "      <td>6.9</td>\n",
       "      <td>9.0</td>\n",
       "      <td>26</td>\n",
       "      <td>2010</td>\n",
       "      <td>70</td>\n",
       "      <td>0</td>\n",
       "      <td>1</td>\n",
       "      <td>0</td>\n",
       "    </tr>\n",
       "    <tr>\n",
       "      <th>155</th>\n",
       "      <td>41.815126</td>\n",
       "      <td>145.000000</td>\n",
       "      <td>13.2</td>\n",
       "      <td>9.0</td>\n",
       "      <td>27</td>\n",
       "      <td>2010</td>\n",
       "      <td>77</td>\n",
       "      <td>0</td>\n",
       "      <td>0</td>\n",
       "      <td>1</td>\n",
       "    </tr>\n",
       "    <tr>\n",
       "      <th>157</th>\n",
       "      <td>18.000000</td>\n",
       "      <td>131.000000</td>\n",
       "      <td>8.0</td>\n",
       "      <td>9.0</td>\n",
       "      <td>29</td>\n",
       "      <td>2010</td>\n",
       "      <td>76</td>\n",
       "      <td>1</td>\n",
       "      <td>0</td>\n",
       "      <td>0</td>\n",
       "    </tr>\n",
       "  </tbody>\n",
       "</table>\n",
       "<p>157 rows × 10 columns</p>\n",
       "</div>"
      ],
      "text/plain": [
       "         Ozone       Solar  Wind  Month  Day  Year  Temp  Weather_C  \\\n",
       "0    41.000000  190.000000   7.4    5.0    1  2010    67          0   \n",
       "1    36.000000  118.000000   8.0    5.0    2  2010    72          1   \n",
       "2    12.000000  149.000000  12.6    5.0    3  2010    74          0   \n",
       "3    18.000000  313.000000  11.5    5.0    4  2010    62          0   \n",
       "4    41.815126  185.366667  14.3    5.0    5  2010    56          0   \n",
       "..         ...         ...   ...    ...  ...   ...   ...        ...   \n",
       "152  20.000000  223.000000  11.5    9.0   30  2010    68          0   \n",
       "153  41.000000  190.000000   7.4    5.0    1  2010    67          1   \n",
       "154  30.000000  193.000000   6.9    9.0   26  2010    70          0   \n",
       "155  41.815126  145.000000  13.2    9.0   27  2010    77          0   \n",
       "157  18.000000  131.000000   8.0    9.0   29  2010    76          1   \n",
       "\n",
       "     Weather_PS  Weather_S  \n",
       "0             0          1  \n",
       "1             0          0  \n",
       "2             1          0  \n",
       "3             0          1  \n",
       "4             0          1  \n",
       "..          ...        ...  \n",
       "152           0          1  \n",
       "153           0          0  \n",
       "154           1          0  \n",
       "155           0          1  \n",
       "157           0          0  \n",
       "\n",
       "[157 rows x 10 columns]"
      ]
     },
     "execution_count": 176,
     "metadata": {},
     "output_type": "execute_result"
    }
   ],
   "source": [
    "data1"
   ]
  },
  {
   "cell_type": "code",
   "execution_count": 177,
   "id": "d5301fa9",
   "metadata": {},
   "outputs": [],
   "source": [
    "from numpy import set_printoptions\n",
    "from sklearn.preprocessing import MinMaxScaler "
   ]
  },
  {
   "cell_type": "code",
   "execution_count": 178,
   "id": "827f99f4",
   "metadata": {},
   "outputs": [],
   "source": [
    "array=data1.values"
   ]
  },
  {
   "cell_type": "code",
   "execution_count": 179,
   "id": "39547001",
   "metadata": {},
   "outputs": [
    {
     "data": {
      "text/plain": [
       "array([[ 41.        , 190.        ,   7.4       , ...,   0.        ,\n",
       "          0.        ,   1.        ],\n",
       "       [ 36.        , 118.        ,   8.        , ...,   1.        ,\n",
       "          0.        ,   0.        ],\n",
       "       [ 12.        , 149.        ,  12.6       , ...,   0.        ,\n",
       "          1.        ,   0.        ],\n",
       "       ...,\n",
       "       [ 30.        , 193.        ,   6.9       , ...,   0.        ,\n",
       "          1.        ,   0.        ],\n",
       "       [ 41.81512605, 145.        ,  13.2       , ...,   0.        ,\n",
       "          0.        ,   1.        ],\n",
       "       [ 18.        , 131.        ,   8.        , ...,   1.        ,\n",
       "          0.        ,   0.        ]])"
      ]
     },
     "execution_count": 179,
     "metadata": {},
     "output_type": "execute_result"
    }
   ],
   "source": [
    "array"
   ]
  },
  {
   "cell_type": "code",
   "execution_count": 182,
   "id": "13fad1d0",
   "metadata": {},
   "outputs": [
    {
     "data": {
      "text/plain": [
       "array([[0.23952096, 0.55963303, 0.3       , 0.        , 0.        ],\n",
       "       [0.20958084, 0.33944954, 0.33157895, 0.        , 0.03333333],\n",
       "       [0.06586826, 0.43425076, 0.57368421, 0.        , 0.06666667],\n",
       "       [0.10179641, 0.93577982, 0.51578947, 0.        , 0.1       ],\n",
       "       [0.24440195, 0.54546381, 0.66315789, 0.        , 0.13333333],\n",
       "       [0.16167665, 0.54546381, 0.69473684, 0.        , 0.16666667],\n",
       "       [0.13173653, 0.89296636, 0.36315789, 0.        , 0.2       ],\n",
       "       [0.10778443, 0.28134557, 0.63684211, 0.        , 0.23333333],\n",
       "       [0.04191617, 0.03669725, 0.96842105, 0.        , 0.26666667],\n",
       "       [0.24440195, 0.57186544, 0.36315789, 0.        , 0.3       ],\n",
       "       [0.03592814, 0.54546381, 0.27368421, 0.        , 0.33333333],\n",
       "       [0.08982036, 0.76146789, 0.42105263, 0.        , 0.36666667],\n",
       "       [0.05988024, 0.86544343, 0.39473684, 0.        , 0.4       ],\n",
       "       [0.07784431, 0.81651376, 0.48421053, 0.        , 0.43333333],\n",
       "       [0.10179641, 0.17737003, 0.60526316, 0.        , 0.46666667],\n",
       "       [0.07784431, 1.        , 0.51578947, 0.        , 0.5       ],\n",
       "       [0.19760479, 0.91743119, 0.54210526, 0.        , 0.53333333],\n",
       "       [0.02994012, 0.21712538, 0.87894737, 0.        , 0.56666667],\n",
       "       [0.17365269, 0.96330275, 0.51578947, 0.        , 0.6       ],\n",
       "       [0.05988024, 0.11314985, 0.42105263, 0.        , 0.63333333],\n",
       "       [0.        , 0.0030581 , 0.42105263, 0.        , 0.66666667],\n",
       "       [0.05988024, 0.95718654, 0.78421053, 0.        , 0.7       ],\n",
       "       [0.01796407, 0.05504587, 0.42105263, 0.        , 0.73333333],\n",
       "       [0.18562874, 0.25993884, 0.54210526, 1.        , 0.76666667],\n",
       "       [0.24440195, 0.18042813, 0.78421053, 0.        , 0.8       ],\n",
       "       [0.24440195, 0.79204893, 0.69473684, 0.        , 0.83333333],\n",
       "       [0.24440195, 0.54546381, 0.33157895, 0.        , 0.86666667],\n",
       "       [0.13173653, 0.01834862, 0.54210526, 0.        , 0.9       ],\n",
       "       [0.26347305, 0.74923547, 0.69473684, 0.        , 0.93333333],\n",
       "       [0.68263473, 0.66055046, 0.21052632, 0.        , 0.96666667],\n",
       "       [0.21556886, 0.83180428, 0.3       , 0.        , 1.        ],\n",
       "       [0.24440195, 0.85321101, 0.36315789, 0.02716275, 0.        ],\n",
       "       [0.24440195, 0.85626911, 0.42105263, 0.02716275, 0.03333333],\n",
       "       [0.24440195, 0.71865443, 0.75789474, 0.02716275, 0.06666667],\n",
       "       [0.24440195, 0.54740061, 0.39473684, 0.02716275, 0.1       ],\n",
       "       [0.24440195, 0.65137615, 0.36315789, 0.02716275, 0.13333333],\n",
       "       [0.24440195, 0.78593272, 0.66315789, 0.02716275, 0.16666667],\n",
       "       [0.16766467, 0.36697248, 0.42105263, 0.02716275, 0.2       ],\n",
       "       [0.24440195, 0.81345566, 0.27368421, 0.02716275, 0.23333333],\n",
       "       [0.41916168, 0.86850153, 0.63684211, 0.02716275, 0.26666667],\n",
       "       [0.22754491, 0.96636086, 0.51578947, 0.02716275, 0.3       ],\n",
       "       [0.24440195, 0.7706422 , 0.48421053, 0.02716275, 0.33333333],\n",
       "       [0.24440195, 0.74311927, 0.39473684, 0.02716275, 0.36666667],\n",
       "       [0.13173653, 0.43119266, 0.33157895, 0.02716275, 0.4       ],\n",
       "       [0.24440195, 0.99388379, 0.63684211, 0.02716275, 0.43333333],\n",
       "       [0.24440195, 0.96330275, 0.51578947, 0.02716275, 0.46666667],\n",
       "       [0.11976048, 0.56269113, 0.69473684, 0.02716275, 0.5       ],\n",
       "       [0.21556886, 0.8470948 , 1.        , 0.02716275, 0.53333333],\n",
       "       [0.11377246, 0.09174312, 0.39473684, 0.02716275, 0.56666667],\n",
       "       [0.06586826, 0.34556575, 0.51578947, 0.02716275, 0.6       ],\n",
       "       [0.07185629, 0.39755352, 0.45263158, 0.02716275, 0.63333333],\n",
       "       [0.24440195, 0.43730887, 0.24210526, 0.02716275, 0.66666667],\n",
       "       [0.24440195, 0.15902141, 0.        , 0.02716275, 0.7       ],\n",
       "       [0.24440195, 0.25688073, 0.15263158, 0.02716275, 0.73333333],\n",
       "       [0.24440195, 0.74311927, 0.24210526, 0.02716275, 0.76666667],\n",
       "       [0.24440195, 0.39143731, 0.33157895, 0.02716275, 0.8       ],\n",
       "       [0.24440195, 0.36697248, 0.33157895, 0.02716275, 0.83333333],\n",
       "       [0.24440195, 0.12232416, 0.45263158, 0.02716275, 0.86666667],\n",
       "       [0.24440195, 0.27828746, 0.51578947, 0.02716275, 0.9       ],\n",
       "       [0.24440195, 0.0733945 , 0.69473684, 0.02716275, 0.93333333],\n",
       "       [0.24440195, 0.40061162, 0.33157895, 0.02716275, 0.96666667],\n",
       "       [0.80239521, 0.80122324, 0.12631579, 0.0543255 , 0.        ],\n",
       "       [0.28742515, 0.73700306, 0.39473684, 0.0543255 , 0.03333333],\n",
       "       [0.18562874, 0.70030581, 0.39473684, 0.0543255 , 0.06666667],\n",
       "       [0.24440195, 0.28746177, 0.48421053, 0.0543255 , 0.1       ],\n",
       "       [0.37724551, 0.51376147, 0.15263158, 0.0543255 , 0.13333333],\n",
       "       [0.23353293, 0.93883792, 0.48421053, 0.0543255 , 0.16666667],\n",
       "       [0.45508982, 0.82262997, 0.17894737, 0.0543255 , 0.2       ],\n",
       "       [0.5748503 , 0.79510703, 0.24210526, 0.0543255 , 0.23333333],\n",
       "       [0.5748503 , 0.81039755, 0.21052632, 0.0543255 , 0.26666667],\n",
       "       [0.50299401, 0.51376147, 0.3       , 0.0543255 , 0.3       ],\n",
       "       [0.24440195, 0.40366972, 0.36315789, 0.0543255 , 0.33333333],\n",
       "       [0.05389222, 0.78593272, 0.66315789, 0.0543255 , 0.36666667],\n",
       "       [0.15568862, 0.51376147, 0.69473684, 0.0543255 , 0.4       ],\n",
       "       [0.24440195, 0.86850153, 0.69473684, 0.0543255 , 0.43333333],\n",
       "       [0.03592814, 0.12538226, 0.66315789, 0.0543255 , 0.46666667],\n",
       "       [0.28143713, 0.77370031, 0.27368421, 0.0543255 , 0.5       ],\n",
       "       [0.20359281, 0.81651376, 0.45263158, 0.0543255 , 0.53333333],\n",
       "       [0.35928144, 0.85015291, 0.24210526, 0.0543255 , 0.56666667],\n",
       "       [0.46706587, 0.55045872, 0.17894737, 0.0543255 , 0.6       ],\n",
       "       [0.37125749, 0.65137615, 0.51578947, 0.0543255 , 0.63333333],\n",
       "       [0.08982036, 0.        , 0.27368421, 0.0543255 , 0.66666667],\n",
       "       [0.24440195, 0.7675841 , 0.42105263, 0.0543255 , 0.7       ],\n",
       "       [0.24440195, 0.88073394, 0.51578947, 0.0543255 , 0.73333333],\n",
       "       [0.47305389, 0.87767584, 0.36315789, 0.0543255 , 0.76666667],\n",
       "       [0.64071856, 0.66055046, 0.33157895, 0.0543255 , 0.8       ],\n",
       "       [0.11377246, 0.22629969, 0.36315789, 0.0543255 , 0.83333333],\n",
       "       [0.30538922, 0.2293578 , 0.54210526, 0.0543255 , 0.86666667],\n",
       "       [0.48502994, 0.62996942, 0.3       , 0.0543255 , 0.9       ],\n",
       "       [0.29341317, 0.81957187, 0.3       , 0.0543255 , 0.93333333],\n",
       "       [0.37724551, 0.75229358, 0.3       , 0.0543255 , 0.96666667],\n",
       "       [0.34730539, 0.75535168, 0.39473684, 0.0543255 , 1.        ],\n",
       "       [0.22754491, 0.2324159 , 0.27368421, 0.08148824, 0.        ],\n",
       "       [0.04790419, 0.05198777, 0.63684211, 0.08148824, 0.03333333],\n",
       "       [0.08982036, 0.21406728, 0.3       , 0.08148824, 0.06666667],\n",
       "       [0.46107784, 0.54546381, 0.27368421, 0.08148824, 0.1       ],\n",
       "       [0.20359281, 0.54546381, 0.3       , 0.08148824, 0.13333333],\n",
       "       [0.38922156, 0.54546381, 0.15263158, 0.08148824, 0.16666667],\n",
       "       [0.7245509 , 0.75840979, 0.12105263, 0.08148824, 0.2       ],\n",
       "       [0.52694611, 0.67889908, 0.45263158, 0.08148824, 0.23333333],\n",
       "       [0.65269461, 0.6116208 , 0.33157895, 0.08148824, 0.26666667],\n",
       "       [0.24440195, 0.65749235, 0.36315789, 0.08148824, 0.3       ],\n",
       "       [0.24440195, 0.39755352, 0.51578947, 0.08148824, 0.33333333],\n",
       "       [0.25748503, 0.56574924, 0.51578947, 0.08148824, 0.36666667],\n",
       "       [0.16167665, 0.81345566, 0.51578947, 0.08148824, 0.4       ],\n",
       "       [0.38323353, 0.4587156 , 0.42105263, 0.08148824, 0.43333333],\n",
       "       [0.24440195, 0.17431193, 0.51578947, 0.08148824, 0.46666667],\n",
       "       [0.1257485 , 0.19571865, 0.45263158, 0.08148824, 0.5       ],\n",
       "       [0.34730539, 0.13455657, 0.24210526, 0.08148824, 0.53333333],\n",
       "       [0.13173653, 0.33027523, 0.3       , 0.08148824, 0.56666667],\n",
       "       [0.17964072, 0.72477064, 0.48421053, 0.08148824, 0.6       ],\n",
       "       [0.25748503, 0.55963303, 0.45263158, 0.08148824, 0.63333333],\n",
       "       [0.11976048, 0.7706422 , 0.72631579, 0.08148824, 0.66666667],\n",
       "       [0.04790419, 0.08868502, 0.66315789, 0.08148824, 0.7       ],\n",
       "       [0.24440195, 0.75840979, 0.57368421, 0.08148824, 0.73333333],\n",
       "       [0.26347305, 0.62691131, 0.42105263, 0.08148824, 0.76666667],\n",
       "       [1.        , 0.70642202, 0.08947368, 0.08148824, 0.8       ],\n",
       "       [0.43113772, 0.63608563, 0.33157895, 0.08148824, 0.83333333],\n",
       "       [0.24440195, 0.44648318, 0.21052632, 0.08148824, 0.86666667],\n",
       "       [0.4491018 , 0.59938838, 0.42105263, 0.08148824, 0.9       ],\n",
       "       [0.7005988 , 0.66666667, 0.03157895, 0.08148824, 0.93333333],\n",
       "       [0.49700599, 0.70336391, 0.24210526, 0.08148824, 0.96666667],\n",
       "       [0.50299401, 0.55351682, 0.24210526, 0.08148824, 1.        ],\n",
       "       [0.56886228, 0.48929664, 0.27368421, 0.10865099, 0.        ],\n",
       "       [0.46107784, 0.58103976, 0.17894737, 0.10865099, 0.03333333],\n",
       "       [0.43113772, 0.5382263 , 0.05789474, 0.10865099, 0.06666667],\n",
       "       [0.53892216, 0.55657492, 0.15263158, 0.10865099, 0.1       ],\n",
       "       [0.2754491 , 0.26911315, 0.3       , 0.10865099, 0.13333333],\n",
       "       [0.18562874, 0.25993884, 0.72631579, 0.10865099, 0.16666667],\n",
       "       [0.11377246, 0.74923547, 0.48421053, 0.10865099, 0.2       ],\n",
       "       [0.13173653, 0.65137615, 0.45263158, 0.10865099, 0.23333333],\n",
       "       [0.11976048, 0.68195719, 0.48421053, 0.10865099, 0.26666667],\n",
       "       [0.13772455, 0.7706422 , 0.42105263, 0.10865099, 0.3       ],\n",
       "       [0.25748503, 0.70030581, 0.69473684, 0.10865099, 0.33333333],\n",
       "       [0.11976048, 0.7706422 , 0.72631579, 0.10865099, 0.36666667],\n",
       "       [0.16167665, 0.70642202, 0.24210526, 0.10865099, 0.4       ],\n",
       "       [0.04790419, 0.05198777, 0.48421053, 0.10865099, 0.43333333],\n",
       "       [0.07185629, 0.32110092, 0.51578947, 0.10865099, 0.46666667],\n",
       "       [0.26946108, 0.70336391, 0.27368421, 0.10865099, 0.5       ],\n",
       "       [0.10179641, 0.66360856, 0.63684211, 0.10865099, 0.53333333],\n",
       "       [0.07185629, 0.06116208, 0.45263158, 0.10865099, 0.56666667],\n",
       "       [0.13772455, 0.70642202, 0.45263158, 0.10865099, 0.6       ],\n",
       "       [0.08982036, 0.59327217, 0.33157895, 0.10865099, 0.63333333],\n",
       "       [0.07185629, 0.70642202, 0.57368421, 0.10865099, 0.66666667],\n",
       "       [0.13173653, 0.02140673, 0.39473684, 0.10865099, 0.7       ],\n",
       "       [0.20958084, 0.40366972, 0.45263158, 0.10865099, 0.73333333],\n",
       "       [0.03592814, 0.12844037, 0.45263158, 0.10865099, 0.76666667],\n",
       "       [0.07784431, 0.03975535, 0.78421053, 0.10865099, 0.8       ],\n",
       "       [0.17365269, 0.56880734, 0.27368421, 0.10865099, 0.83333333],\n",
       "       [0.24440195, 0.42201835, 0.60526316, 0.10865099, 0.86666667],\n",
       "       [0.07784431, 0.56269113, 0.66315789, 0.10865099, 0.9       ],\n",
       "       [0.10179641, 0.37920489, 0.33157895, 0.10865099, 0.93333333],\n",
       "       [0.11377246, 0.66055046, 0.51578947, 0.10865099, 0.96666667],\n",
       "       [0.23952096, 0.55963303, 0.3       , 0.        , 0.        ],\n",
       "       [0.17365269, 0.56880734, 0.27368421, 0.10865099, 0.83333333],\n",
       "       [0.24440195, 0.42201835, 0.60526316, 0.10865099, 0.86666667],\n",
       "       [0.10179641, 0.37920489, 0.33157895, 0.10865099, 0.93333333]])"
      ]
     },
     "execution_count": 182,
     "metadata": {},
     "output_type": "execute_result"
    }
   ],
   "source": [
    "scaler= MinMaxScaler()\n",
    "scaler.fit_transform(array[:,0:5])"
   ]
  },
  {
   "cell_type": "code",
   "execution_count": 184,
   "id": "f08a5325",
   "metadata": {},
   "outputs": [],
   "source": [
    "from sklearn.preprocessing import StandardScaler"
   ]
  },
  {
   "cell_type": "code",
   "execution_count": 185,
   "id": "16544d16",
   "metadata": {},
   "outputs": [
    {
     "data": {
      "text/plain": [
       "array([[-0.02878905,  0.05342774, -0.72407878, ..., -0.67357531,\n",
       "        -0.65366102,  1.30648251],\n",
       "       [-0.20538171, -0.7768163 , -0.55235617, ...,  1.48461498,\n",
       "        -0.65366102, -0.765414  ],\n",
       "       [-1.05302644, -0.41935011,  0.76418385, ..., -0.67357531,\n",
       "         1.52984494, -0.765414  ],\n",
       "       ...,\n",
       "       [-0.41729289,  0.08802124, -0.86718096, ..., -0.67357531,\n",
       "         1.52984494, -0.765414  ],\n",
       "       [ 0.        , -0.46547478,  0.93590646, ..., -0.67357531,\n",
       "        -0.65366102,  1.30648251],\n",
       "       [-0.84111526, -0.62691113, -0.55235617, ...,  1.48461498,\n",
       "        -0.65366102, -0.765414  ]])"
      ]
     },
     "execution_count": 185,
     "metadata": {},
     "output_type": "execute_result"
    }
   ],
   "source": [
    "scaler1=StandardScaler()\n",
    "scaler1.fit_transform(array)"
   ]
  },
  {
   "cell_type": "code",
   "execution_count": null,
   "id": "8d06e67f",
   "metadata": {},
   "outputs": [],
   "source": []
  }
 ],
 "metadata": {
  "kernelspec": {
   "display_name": "Python 3 (ipykernel)",
   "language": "python",
   "name": "python3"
  },
  "language_info": {
   "codemirror_mode": {
    "name": "ipython",
    "version": 3
   },
   "file_extension": ".py",
   "mimetype": "text/x-python",
   "name": "python",
   "nbconvert_exporter": "python",
   "pygments_lexer": "ipython3",
   "version": "3.9.7"
  }
 },
 "nbformat": 4,
 "nbformat_minor": 5
}
